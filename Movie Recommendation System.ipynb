{
 "cells": [
  {
   "cell_type": "code",
   "execution_count": 1,
   "id": "03c7d3d9",
   "metadata": {},
   "outputs": [],
   "source": [
    "import numpy as np\n",
    "import pandas as pd\n",
    "import difflib\n",
    "from sklearn.feature_extraction.text import TfidfVectorizer\n",
    "from sklearn.metrics.pairwise import cosine_similarity\n",
    "import os\n"
   ]
  },
  {
   "cell_type": "code",
   "execution_count": 2,
   "id": "454fc166",
   "metadata": {},
   "outputs": [],
   "source": [
    "#read csv file\n",
    "data =pd.read_csv('movies.csv')\n",
    "\n"
   ]
  },
  {
   "cell_type": "code",
   "execution_count": 3,
   "id": "daf05f60",
   "metadata": {},
   "outputs": [
    {
     "data": {
      "text/plain": [
       "(4803, 24)"
      ]
     },
     "execution_count": 3,
     "metadata": {},
     "output_type": "execute_result"
    }
   ],
   "source": [
    "#display the shape of data \n",
    "data.shape"
   ]
  },
  {
   "cell_type": "code",
   "execution_count": 4,
   "id": "a9de5636",
   "metadata": {},
   "outputs": [
    {
     "data": {
      "text/plain": [
       "index                      0\n",
       "budget                     0\n",
       "genres                    28\n",
       "homepage                3091\n",
       "id                         0\n",
       "keywords                 412\n",
       "original_language          0\n",
       "original_title             0\n",
       "overview                   3\n",
       "popularity                 0\n",
       "production_companies       0\n",
       "production_countries       0\n",
       "release_date               1\n",
       "revenue                    0\n",
       "runtime                    2\n",
       "spoken_languages           0\n",
       "status                     0\n",
       "tagline                  844\n",
       "title                      0\n",
       "vote_average               0\n",
       "vote_count                 0\n",
       "cast                      43\n",
       "crew                       0\n",
       "director                  30\n",
       "dtype: int64"
      ]
     },
     "execution_count": 4,
     "metadata": {},
     "output_type": "execute_result"
    }
   ],
   "source": [
    "#check for null values\n",
    "data.isna().sum()"
   ]
  },
  {
   "cell_type": "code",
   "execution_count": 5,
   "id": "48f2aba0",
   "metadata": {},
   "outputs": [],
   "source": [
    "#select relevent features for recommendation\n",
    "selected_features = ['genres','keywords','tagline','cast','director']\n"
   ]
  },
  {
   "cell_type": "code",
   "execution_count": 6,
   "id": "e3abf766",
   "metadata": {},
   "outputs": [
    {
     "data": {
      "text/html": [
       "<div>\n",
       "<style scoped>\n",
       "    .dataframe tbody tr th:only-of-type {\n",
       "        vertical-align: middle;\n",
       "    }\n",
       "\n",
       "    .dataframe tbody tr th {\n",
       "        vertical-align: top;\n",
       "    }\n",
       "\n",
       "    .dataframe thead th {\n",
       "        text-align: right;\n",
       "    }\n",
       "</style>\n",
       "<table border=\"1\" class=\"dataframe\">\n",
       "  <thead>\n",
       "    <tr style=\"text-align: right;\">\n",
       "      <th></th>\n",
       "      <th>genres</th>\n",
       "      <th>keywords</th>\n",
       "      <th>tagline</th>\n",
       "      <th>cast</th>\n",
       "      <th>director</th>\n",
       "    </tr>\n",
       "  </thead>\n",
       "  <tbody>\n",
       "    <tr>\n",
       "      <th>0</th>\n",
       "      <td>Action Adventure Fantasy Science Fiction</td>\n",
       "      <td>culture clash future space war space colony so...</td>\n",
       "      <td>Enter the World of Pandora.</td>\n",
       "      <td>Sam Worthington Zoe Saldana Sigourney Weaver S...</td>\n",
       "      <td>James Cameron</td>\n",
       "    </tr>\n",
       "    <tr>\n",
       "      <th>1</th>\n",
       "      <td>Adventure Fantasy Action</td>\n",
       "      <td>ocean drug abuse exotic island east india trad...</td>\n",
       "      <td>At the end of the world, the adventure begins.</td>\n",
       "      <td>Johnny Depp Orlando Bloom Keira Knightley Stel...</td>\n",
       "      <td>Gore Verbinski</td>\n",
       "    </tr>\n",
       "    <tr>\n",
       "      <th>2</th>\n",
       "      <td>Action Adventure Crime</td>\n",
       "      <td>spy based on novel secret agent sequel mi6</td>\n",
       "      <td>A Plan No One Escapes</td>\n",
       "      <td>Daniel Craig Christoph Waltz L\\u00e9a Seydoux ...</td>\n",
       "      <td>Sam Mendes</td>\n",
       "    </tr>\n",
       "    <tr>\n",
       "      <th>3</th>\n",
       "      <td>Action Crime Drama Thriller</td>\n",
       "      <td>dc comics crime fighter terrorist secret ident...</td>\n",
       "      <td>The Legend Ends</td>\n",
       "      <td>Christian Bale Michael Caine Gary Oldman Anne ...</td>\n",
       "      <td>Christopher Nolan</td>\n",
       "    </tr>\n",
       "    <tr>\n",
       "      <th>4</th>\n",
       "      <td>Action Adventure Science Fiction</td>\n",
       "      <td>based on novel mars medallion space travel pri...</td>\n",
       "      <td>Lost in our world, found in another.</td>\n",
       "      <td>Taylor Kitsch Lynn Collins Samantha Morton Wil...</td>\n",
       "      <td>Andrew Stanton</td>\n",
       "    </tr>\n",
       "  </tbody>\n",
       "</table>\n",
       "</div>"
      ],
      "text/plain": [
       "                                     genres  \\\n",
       "0  Action Adventure Fantasy Science Fiction   \n",
       "1                  Adventure Fantasy Action   \n",
       "2                    Action Adventure Crime   \n",
       "3               Action Crime Drama Thriller   \n",
       "4          Action Adventure Science Fiction   \n",
       "\n",
       "                                            keywords  \\\n",
       "0  culture clash future space war space colony so...   \n",
       "1  ocean drug abuse exotic island east india trad...   \n",
       "2         spy based on novel secret agent sequel mi6   \n",
       "3  dc comics crime fighter terrorist secret ident...   \n",
       "4  based on novel mars medallion space travel pri...   \n",
       "\n",
       "                                          tagline  \\\n",
       "0                     Enter the World of Pandora.   \n",
       "1  At the end of the world, the adventure begins.   \n",
       "2                           A Plan No One Escapes   \n",
       "3                                 The Legend Ends   \n",
       "4            Lost in our world, found in another.   \n",
       "\n",
       "                                                cast           director  \n",
       "0  Sam Worthington Zoe Saldana Sigourney Weaver S...      James Cameron  \n",
       "1  Johnny Depp Orlando Bloom Keira Knightley Stel...     Gore Verbinski  \n",
       "2  Daniel Craig Christoph Waltz L\\u00e9a Seydoux ...         Sam Mendes  \n",
       "3  Christian Bale Michael Caine Gary Oldman Anne ...  Christopher Nolan  \n",
       "4  Taylor Kitsch Lynn Collins Samantha Morton Wil...     Andrew Stanton  "
      ]
     },
     "execution_count": 6,
     "metadata": {},
     "output_type": "execute_result"
    }
   ],
   "source": [
    "data[selected_features].head()"
   ]
  },
  {
   "cell_type": "code",
   "execution_count": 7,
   "id": "bae839a1",
   "metadata": {},
   "outputs": [
    {
     "data": {
      "text/plain": [
       "genres       28\n",
       "keywords    412\n",
       "tagline     844\n",
       "cast         43\n",
       "director     30\n",
       "dtype: int64"
      ]
     },
     "execution_count": 7,
     "metadata": {},
     "output_type": "execute_result"
    }
   ],
   "source": [
    "#check for null values in selected attributes\n",
    "data[selected_features].isna().sum()"
   ]
  },
  {
   "cell_type": "code",
   "execution_count": 8,
   "id": "ff7e0a9b",
   "metadata": {},
   "outputs": [
    {
     "data": {
      "text/html": [
       "<div>\n",
       "<style scoped>\n",
       "    .dataframe tbody tr th:only-of-type {\n",
       "        vertical-align: middle;\n",
       "    }\n",
       "\n",
       "    .dataframe tbody tr th {\n",
       "        vertical-align: top;\n",
       "    }\n",
       "\n",
       "    .dataframe thead th {\n",
       "        text-align: right;\n",
       "    }\n",
       "</style>\n",
       "<table border=\"1\" class=\"dataframe\">\n",
       "  <thead>\n",
       "    <tr style=\"text-align: right;\">\n",
       "      <th></th>\n",
       "      <th>index</th>\n",
       "      <th>budget</th>\n",
       "      <th>genres</th>\n",
       "      <th>homepage</th>\n",
       "      <th>id</th>\n",
       "      <th>keywords</th>\n",
       "      <th>original_language</th>\n",
       "      <th>original_title</th>\n",
       "      <th>overview</th>\n",
       "      <th>popularity</th>\n",
       "      <th>...</th>\n",
       "      <th>runtime</th>\n",
       "      <th>spoken_languages</th>\n",
       "      <th>status</th>\n",
       "      <th>tagline</th>\n",
       "      <th>title</th>\n",
       "      <th>vote_average</th>\n",
       "      <th>vote_count</th>\n",
       "      <th>cast</th>\n",
       "      <th>crew</th>\n",
       "      <th>director</th>\n",
       "    </tr>\n",
       "  </thead>\n",
       "  <tbody>\n",
       "    <tr>\n",
       "      <th>0</th>\n",
       "      <td>0</td>\n",
       "      <td>237000000</td>\n",
       "      <td>Action Adventure Fantasy Science Fiction</td>\n",
       "      <td>http://www.avatarmovie.com/</td>\n",
       "      <td>19995</td>\n",
       "      <td>culture clash future space war space colony so...</td>\n",
       "      <td>en</td>\n",
       "      <td>Avatar</td>\n",
       "      <td>In the 22nd century, a paraplegic Marine is di...</td>\n",
       "      <td>150.437577</td>\n",
       "      <td>...</td>\n",
       "      <td>162.0</td>\n",
       "      <td>[{\"iso_639_1\": \"en\", \"name\": \"English\"}, {\"iso...</td>\n",
       "      <td>Released</td>\n",
       "      <td>Enter the World of Pandora.</td>\n",
       "      <td>Avatar</td>\n",
       "      <td>7.2</td>\n",
       "      <td>11800</td>\n",
       "      <td>Sam Worthington Zoe Saldana Sigourney Weaver S...</td>\n",
       "      <td>[{'name': 'Stephen E. Rivkin', 'gender': 0, 'd...</td>\n",
       "      <td>James Cameron</td>\n",
       "    </tr>\n",
       "    <tr>\n",
       "      <th>1</th>\n",
       "      <td>1</td>\n",
       "      <td>300000000</td>\n",
       "      <td>Adventure Fantasy Action</td>\n",
       "      <td>http://disney.go.com/disneypictures/pirates/</td>\n",
       "      <td>285</td>\n",
       "      <td>ocean drug abuse exotic island east india trad...</td>\n",
       "      <td>en</td>\n",
       "      <td>Pirates of the Caribbean: At World's End</td>\n",
       "      <td>Captain Barbossa, long believed to be dead, ha...</td>\n",
       "      <td>139.082615</td>\n",
       "      <td>...</td>\n",
       "      <td>169.0</td>\n",
       "      <td>[{\"iso_639_1\": \"en\", \"name\": \"English\"}]</td>\n",
       "      <td>Released</td>\n",
       "      <td>At the end of the world, the adventure begins.</td>\n",
       "      <td>Pirates of the Caribbean: At World's End</td>\n",
       "      <td>6.9</td>\n",
       "      <td>4500</td>\n",
       "      <td>Johnny Depp Orlando Bloom Keira Knightley Stel...</td>\n",
       "      <td>[{'name': 'Dariusz Wolski', 'gender': 2, 'depa...</td>\n",
       "      <td>Gore Verbinski</td>\n",
       "    </tr>\n",
       "    <tr>\n",
       "      <th>2</th>\n",
       "      <td>2</td>\n",
       "      <td>245000000</td>\n",
       "      <td>Action Adventure Crime</td>\n",
       "      <td>http://www.sonypictures.com/movies/spectre/</td>\n",
       "      <td>206647</td>\n",
       "      <td>spy based on novel secret agent sequel mi6</td>\n",
       "      <td>en</td>\n",
       "      <td>Spectre</td>\n",
       "      <td>A cryptic message from Bond’s past sends him o...</td>\n",
       "      <td>107.376788</td>\n",
       "      <td>...</td>\n",
       "      <td>148.0</td>\n",
       "      <td>[{\"iso_639_1\": \"fr\", \"name\": \"Fran\\u00e7ais\"},...</td>\n",
       "      <td>Released</td>\n",
       "      <td>A Plan No One Escapes</td>\n",
       "      <td>Spectre</td>\n",
       "      <td>6.3</td>\n",
       "      <td>4466</td>\n",
       "      <td>Daniel Craig Christoph Waltz L\\u00e9a Seydoux ...</td>\n",
       "      <td>[{'name': 'Thomas Newman', 'gender': 2, 'depar...</td>\n",
       "      <td>Sam Mendes</td>\n",
       "    </tr>\n",
       "    <tr>\n",
       "      <th>3</th>\n",
       "      <td>3</td>\n",
       "      <td>250000000</td>\n",
       "      <td>Action Crime Drama Thriller</td>\n",
       "      <td>http://www.thedarkknightrises.com/</td>\n",
       "      <td>49026</td>\n",
       "      <td>dc comics crime fighter terrorist secret ident...</td>\n",
       "      <td>en</td>\n",
       "      <td>The Dark Knight Rises</td>\n",
       "      <td>Following the death of District Attorney Harve...</td>\n",
       "      <td>112.312950</td>\n",
       "      <td>...</td>\n",
       "      <td>165.0</td>\n",
       "      <td>[{\"iso_639_1\": \"en\", \"name\": \"English\"}]</td>\n",
       "      <td>Released</td>\n",
       "      <td>The Legend Ends</td>\n",
       "      <td>The Dark Knight Rises</td>\n",
       "      <td>7.6</td>\n",
       "      <td>9106</td>\n",
       "      <td>Christian Bale Michael Caine Gary Oldman Anne ...</td>\n",
       "      <td>[{'name': 'Hans Zimmer', 'gender': 2, 'departm...</td>\n",
       "      <td>Christopher Nolan</td>\n",
       "    </tr>\n",
       "    <tr>\n",
       "      <th>4</th>\n",
       "      <td>4</td>\n",
       "      <td>260000000</td>\n",
       "      <td>Action Adventure Science Fiction</td>\n",
       "      <td>http://movies.disney.com/john-carter</td>\n",
       "      <td>49529</td>\n",
       "      <td>based on novel mars medallion space travel pri...</td>\n",
       "      <td>en</td>\n",
       "      <td>John Carter</td>\n",
       "      <td>John Carter is a war-weary, former military ca...</td>\n",
       "      <td>43.926995</td>\n",
       "      <td>...</td>\n",
       "      <td>132.0</td>\n",
       "      <td>[{\"iso_639_1\": \"en\", \"name\": \"English\"}]</td>\n",
       "      <td>Released</td>\n",
       "      <td>Lost in our world, found in another.</td>\n",
       "      <td>John Carter</td>\n",
       "      <td>6.1</td>\n",
       "      <td>2124</td>\n",
       "      <td>Taylor Kitsch Lynn Collins Samantha Morton Wil...</td>\n",
       "      <td>[{'name': 'Andrew Stanton', 'gender': 2, 'depa...</td>\n",
       "      <td>Andrew Stanton</td>\n",
       "    </tr>\n",
       "  </tbody>\n",
       "</table>\n",
       "<p>5 rows × 24 columns</p>\n",
       "</div>"
      ],
      "text/plain": [
       "   index     budget                                    genres  \\\n",
       "0      0  237000000  Action Adventure Fantasy Science Fiction   \n",
       "1      1  300000000                  Adventure Fantasy Action   \n",
       "2      2  245000000                    Action Adventure Crime   \n",
       "3      3  250000000               Action Crime Drama Thriller   \n",
       "4      4  260000000          Action Adventure Science Fiction   \n",
       "\n",
       "                                       homepage      id  \\\n",
       "0                   http://www.avatarmovie.com/   19995   \n",
       "1  http://disney.go.com/disneypictures/pirates/     285   \n",
       "2   http://www.sonypictures.com/movies/spectre/  206647   \n",
       "3            http://www.thedarkknightrises.com/   49026   \n",
       "4          http://movies.disney.com/john-carter   49529   \n",
       "\n",
       "                                            keywords original_language  \\\n",
       "0  culture clash future space war space colony so...                en   \n",
       "1  ocean drug abuse exotic island east india trad...                en   \n",
       "2         spy based on novel secret agent sequel mi6                en   \n",
       "3  dc comics crime fighter terrorist secret ident...                en   \n",
       "4  based on novel mars medallion space travel pri...                en   \n",
       "\n",
       "                             original_title  \\\n",
       "0                                    Avatar   \n",
       "1  Pirates of the Caribbean: At World's End   \n",
       "2                                   Spectre   \n",
       "3                     The Dark Knight Rises   \n",
       "4                               John Carter   \n",
       "\n",
       "                                            overview  popularity  ... runtime  \\\n",
       "0  In the 22nd century, a paraplegic Marine is di...  150.437577  ...   162.0   \n",
       "1  Captain Barbossa, long believed to be dead, ha...  139.082615  ...   169.0   \n",
       "2  A cryptic message from Bond’s past sends him o...  107.376788  ...   148.0   \n",
       "3  Following the death of District Attorney Harve...  112.312950  ...   165.0   \n",
       "4  John Carter is a war-weary, former military ca...   43.926995  ...   132.0   \n",
       "\n",
       "                                    spoken_languages    status  \\\n",
       "0  [{\"iso_639_1\": \"en\", \"name\": \"English\"}, {\"iso...  Released   \n",
       "1           [{\"iso_639_1\": \"en\", \"name\": \"English\"}]  Released   \n",
       "2  [{\"iso_639_1\": \"fr\", \"name\": \"Fran\\u00e7ais\"},...  Released   \n",
       "3           [{\"iso_639_1\": \"en\", \"name\": \"English\"}]  Released   \n",
       "4           [{\"iso_639_1\": \"en\", \"name\": \"English\"}]  Released   \n",
       "\n",
       "                                          tagline  \\\n",
       "0                     Enter the World of Pandora.   \n",
       "1  At the end of the world, the adventure begins.   \n",
       "2                           A Plan No One Escapes   \n",
       "3                                 The Legend Ends   \n",
       "4            Lost in our world, found in another.   \n",
       "\n",
       "                                      title vote_average vote_count  \\\n",
       "0                                    Avatar          7.2      11800   \n",
       "1  Pirates of the Caribbean: At World's End          6.9       4500   \n",
       "2                                   Spectre          6.3       4466   \n",
       "3                     The Dark Knight Rises          7.6       9106   \n",
       "4                               John Carter          6.1       2124   \n",
       "\n",
       "                                                cast  \\\n",
       "0  Sam Worthington Zoe Saldana Sigourney Weaver S...   \n",
       "1  Johnny Depp Orlando Bloom Keira Knightley Stel...   \n",
       "2  Daniel Craig Christoph Waltz L\\u00e9a Seydoux ...   \n",
       "3  Christian Bale Michael Caine Gary Oldman Anne ...   \n",
       "4  Taylor Kitsch Lynn Collins Samantha Morton Wil...   \n",
       "\n",
       "                                                crew           director  \n",
       "0  [{'name': 'Stephen E. Rivkin', 'gender': 0, 'd...      James Cameron  \n",
       "1  [{'name': 'Dariusz Wolski', 'gender': 2, 'depa...     Gore Verbinski  \n",
       "2  [{'name': 'Thomas Newman', 'gender': 2, 'depar...         Sam Mendes  \n",
       "3  [{'name': 'Hans Zimmer', 'gender': 2, 'departm...  Christopher Nolan  \n",
       "4  [{'name': 'Andrew Stanton', 'gender': 2, 'depa...     Andrew Stanton  \n",
       "\n",
       "[5 rows x 24 columns]"
      ]
     },
     "metadata": {},
     "output_type": "display_data"
    }
   ],
   "source": [
    "#Replacing the null values with null string\n",
    "for feature in selected_features:\n",
    "  data[feature] = data[feature].fillna('')\n",
    "display (data.head())\n"
   ]
  },
  {
   "cell_type": "code",
   "execution_count": 9,
   "id": "1ac85ccc",
   "metadata": {},
   "outputs": [
    {
     "data": {
      "text/plain": [
       "0       Action Adventure Fantasy Science Fiction cultu...\n",
       "1       Adventure Fantasy Action ocean drug abuse exot...\n",
       "2       Action Adventure Crime spy based on novel secr...\n",
       "3       Action Crime Drama Thriller dc comics crime fi...\n",
       "4       Action Adventure Science Fiction based on nove...\n",
       "                              ...                        \n",
       "4798    Action Crime Thriller united states\\u2013mexic...\n",
       "4799    Comedy Romance  A newlywed couple's honeymoon ...\n",
       "4800    Comedy Drama Romance TV Movie date love at fir...\n",
       "4801      A New Yorker in Shanghai Daniel Henney Eliza...\n",
       "4802    Documentary obsession camcorder crush dream gi...\n",
       "Length: 4803, dtype: object"
      ]
     },
     "metadata": {},
     "output_type": "display_data"
    }
   ],
   "source": [
    "#combining all selected features\n",
    "combined_features = data['genres']+' '+data['keywords']+' '+data['tagline']+' '+data['cast']+' '+data['director']\n",
    "display (combined_features)\n"
   ]
  },
  {
   "cell_type": "code",
   "execution_count": 10,
   "id": "794695a7",
   "metadata": {},
   "outputs": [
    {
     "data": {
      "text/plain": [
       "(4803, 17318)"
      ]
     },
     "metadata": {},
     "output_type": "display_data"
    },
    {
     "data": {
      "text/plain": [
       "(4803, 17318)"
      ]
     },
     "metadata": {},
     "output_type": "display_data"
    },
    {
     "name": "stdout",
     "output_type": "stream",
     "text": [
      "  (0, 2432)\t0.17272411194153\n",
      "  (0, 7755)\t0.1128035714854756\n",
      "  (0, 13024)\t0.1942362060108871\n",
      "  (0, 10229)\t0.16058685400095302\n",
      "  (0, 8756)\t0.22709015857011816\n",
      "  (0, 14608)\t0.15150672398763912\n",
      "  (0, 16668)\t0.19843263965100372\n",
      "  (0, 14064)\t0.20596090415084142\n",
      "  (0, 13319)\t0.2177470539412484\n",
      "  (0, 17290)\t0.20197912553916567\n",
      "  (0, 17007)\t0.23643326319898797\n",
      "  (0, 13349)\t0.15021264094167086\n",
      "  (0, 11503)\t0.27211310056983656\n",
      "  (0, 11192)\t0.09049319826481456\n",
      "  (0, 16998)\t0.1282126322850579\n",
      "  (0, 15261)\t0.07095833561276566\n",
      "  (0, 4945)\t0.24025852494110758\n",
      "  (0, 14271)\t0.21392179219912877\n",
      "  (0, 3225)\t0.24960162956997736\n",
      "  (0, 16587)\t0.12549432354918996\n",
      "  (0, 14378)\t0.33962752210959823\n",
      "  (0, 5836)\t0.1646750903586285\n",
      "  (0, 3065)\t0.22208377802661425\n",
      "  (0, 3678)\t0.21392179219912877\n",
      "  (0, 5437)\t0.1036413987316636\n",
      "  :\t:\n",
      "  (4801, 17266)\t0.2886098184932947\n",
      "  (4801, 4835)\t0.24713765026963996\n",
      "  (4801, 403)\t0.17727585190343226\n",
      "  (4801, 6935)\t0.2886098184932947\n",
      "  (4801, 11663)\t0.21557500762727902\n",
      "  (4801, 1672)\t0.1564793427630879\n",
      "  (4801, 10929)\t0.13504166990041588\n",
      "  (4801, 7474)\t0.11307961713172225\n",
      "  (4801, 3796)\t0.3342808988877418\n",
      "  (4802, 6996)\t0.5700048226105303\n",
      "  (4802, 5367)\t0.22969114490410403\n",
      "  (4802, 3654)\t0.262512960498006\n",
      "  (4802, 2425)\t0.24002350969074696\n",
      "  (4802, 4608)\t0.24002350969074696\n",
      "  (4802, 6417)\t0.21753405888348784\n",
      "  (4802, 4371)\t0.1538239182675544\n",
      "  (4802, 12989)\t0.1696476532191718\n",
      "  (4802, 1316)\t0.1960747079005741\n",
      "  (4802, 4528)\t0.19504460807622875\n",
      "  (4802, 3436)\t0.21753405888348784\n",
      "  (4802, 6155)\t0.18056463596934083\n",
      "  (4802, 4980)\t0.16078053641367315\n",
      "  (4802, 2129)\t0.3099656128577656\n",
      "  (4802, 4518)\t0.16784466610624255\n",
      "  (4802, 11161)\t0.17867407682173203\n"
     ]
    }
   ],
   "source": [
    "#Converting the text data to feature vectors\n",
    "vectorizer = TfidfVectorizer()\n",
    "feature_vectors = vectorizer.fit_transform(combined_features)\n",
    "display (feature_vectors.shape)\n",
    "display (feature_vectors.shape)\n",
    "print (feature_vectors)\n"
   ]
  },
  {
   "cell_type": "code",
   "execution_count": 11,
   "id": "b4f9c51f",
   "metadata": {},
   "outputs": [
    {
     "name": "stdout",
     "output_type": "stream",
     "text": [
      "(4803, 4803)\n",
      "[[1.         0.07219487 0.037733   ... 0.         0.         0.        ]\n",
      " [0.07219487 1.         0.03281499 ... 0.03575545 0.         0.        ]\n",
      " [0.037733   0.03281499 1.         ... 0.         0.05389661 0.        ]\n",
      " ...\n",
      " [0.         0.03575545 0.         ... 1.         0.         0.02651502]\n",
      " [0.         0.         0.05389661 ... 0.         1.         0.        ]\n",
      " [0.         0.         0.         ... 0.02651502 0.         1.        ]]\n"
     ]
    }
   ],
   "source": [
    "#Getting the similarity scores using cosine similarity\n",
    "similarity = cosine_similarity(feature_vectors)\n",
    "print(similarity.shape)\n",
    "print  (similarity )\n"
   ]
  },
  {
   "cell_type": "code",
   "execution_count": 12,
   "id": "edc66e55",
   "metadata": {},
   "outputs": [
    {
     "name": "stdout",
     "output_type": "stream",
     "text": [
      " Enter your favourite movie name : superman\n"
     ]
    }
   ],
   "source": [
    "#Enter the movie name to get Similarity \n",
    "movie_name = input(' Enter your favourite movie name : ')\n"
   ]
  },
  {
   "cell_type": "code",
   "execution_count": 13,
   "id": "1ed1a696",
   "metadata": {},
   "outputs": [
    {
     "data": {
      "text/plain": [
       "4803"
      ]
     },
     "execution_count": 13,
     "metadata": {},
     "output_type": "execute_result"
    }
   ],
   "source": [
    "#Creating a list with all the movie names given in the dataset\n",
    "movie_title_list = data['title'].tolist()\n",
    "len(movie_title_list)\n"
   ]
  },
  {
   "cell_type": "code",
   "execution_count": 14,
   "id": "19fb6ccb",
   "metadata": {},
   "outputs": [],
   "source": [
    "#find movies which are matching to given movie name\n",
    "find_close_match = difflib.get_close_matches(movie_name, movie_title_list)\n",
    "\n"
   ]
  },
  {
   "cell_type": "code",
   "execution_count": 15,
   "id": "bc653fe3",
   "metadata": {},
   "outputs": [
    {
     "name": "stdout",
     "output_type": "stream",
     "text": [
      "['Superman', 'Superman II', 'Superman III']\n"
     ]
    }
   ],
   "source": [
    "print(find_close_match)"
   ]
  },
  {
   "cell_type": "code",
   "execution_count": 16,
   "id": "f4765792",
   "metadata": {},
   "outputs": [
    {
     "name": "stdout",
     "output_type": "stream",
     "text": [
      "813\n"
     ]
    }
   ],
   "source": [
    "#we choose first movie from list of matching movies because it is the the most matching movie name  to the given movie name\n",
    "close_match = find_close_match[0]\n",
    "\n",
    "index_of_the_movie = data[data.title == close_match]['index'].values[0]\n",
    "print(index_of_the_movie)\n"
   ]
  },
  {
   "cell_type": "code",
   "execution_count": 17,
   "id": "0ac4d9ef",
   "metadata": {},
   "outputs": [
    {
     "name": "stdout",
     "output_type": "stream",
     "text": [
      "[(0, 0.06605757327786128), (1, 0.05494299286841542), (2, 0.022474655275199845), (3, 0.18229768118495995), (4, 0.04826852550842614), (5, 0.031153020937531885), (6, 0.007816453213423849), (7, 0.03428924698332946), (8, 0.020070942434549842), (9, 0.10380582477831074), (10, 0.20133128757695565), (11, 0.01951398074561013), (12, 0.025827307032424), (13, 0.016928223234223393), (14, 0.3188610536407353), (15, 0.018553049692010756), (16, 0.03251349500357992), (17, 0.02470681749845619), (18, 0.029643169623505952), (19, 0.04417369541584225), (20, 0.029947941232879607), (21, 0.011401180198063948), (22, 0.03639562527544031), (23, 0.025066323882186783), (24, 0.03654732000312345), (25, 0.0), (26, 0.03538948489610589), (27, 0.03529828509945782), (28, 0.038753351499167796), (29, 0.0142136220030666), (30, 0.025493376585254864), (31, 0.04277585721181915), (32, 0.03875437083506119), (33, 0.03407619761223045), (34, 0.0), (35, 0.035771481945846714), (36, 0.03223295986231689), (37, 0.020432362116956287), (38, 0.025815233384302975), (39, 0.036492247430502514), (40, 0.013244821920171627), (41, 0.10975905674983476), (42, 0.10149944282849166), (43, 0.08576604259167658), (44, 0.006319182166201161), (45, 0.06462598213154251), (46, 0.05309679823241051), (47, 0.03761158537170053), (48, 0.025917949138402414), (49, 0.003998237151396815), (50, 0.02907313721374867), (51, 0.027885553040733414), (52, 0.03500409695357003), (53, 0.08470918689775864), (54, 0.007001834829625351), (55, 0.014291766975677592), (56, 0.03810293577794699), (57, 0.013902090422405942), (58, 0.02153741249571565), (59, 0.05132858417531395), (60, 0.0), (61, 0.045547733373548595), (62, 0.06966136463090922), (63, 0.06725931941779921), (64, 0.025581863342738185), (65, 0.16160582880593957), (66, 0.030106402565861973), (67, 0.02901652511158529), (68, 0.031856213586461846), (69, 0.026454286185553975), (70, 0.03335403292889698), (71, 0.03325137570270104), (72, 0.18512906308616195), (73, 0.011779934318859646), (74, 0.026365743859224824), (75, 0.021901668503487924), (76, 0.07804015158361503), (77, 0.020396654815981758), (78, 0.02142339269137878), (79, 0.059827510542124845), (80, 0.02621136529250946), (81, 0.05785460534783446), (82, 0.027676229424182016), (83, 0.034981841112783164), (84, 0.020529839102778173), (85, 0.03749714018203718), (86, 0.016587307042038306), (87, 0.04299338119036592), (88, 0.017969603183659096), (89, 0.01071906104190594), (90, 0.05119976869823462), (91, 0.0328560745513075), (92, 0.028183849103612026), (93, 0.09836617663461664), (94, 0.03302478836558199), (95, 0.0925297046087796), (96, 0.07089704776048537), (97, 0.02640561882255311), (98, 0.047904840097481256), (99, 0.013673903899206735), (100, 0.01109426291636791), (101, 0.05853252810272144), (102, 0.04107344540175811), (103, 0.030901825104041193), (104, 0.030315421416078944), (105, 0.011825334625384166), (106, 0.020418883230977722), (107, 0.026794714591165794), (108, 0.09184793552254808), (109, 0.014128614652664847), (110, 0.013641183440831095), (111, 0.05235108990643755), (112, 0.01815657759038565), (113, 0.02461728682059794), (114, 0.017796745323152622), (115, 0.016913118233378713), (116, 0.09195022929377288), (117, 0.017759118531503835), (118, 0.010914475545020817), (119, 0.17180650719081145), (120, 0.004691135100968852), (121, 0.032760339438095545), (122, 0.041922040982842024), (123, 0.09765613753100719), (124, 0.011104853770884321), (125, 0.09613971288893665), (126, 0.04558514565601145), (127, 0.035768084946905865), (128, 0.0), (129, 0.02556856979722181), (130, 0.006886129183755928), (131, 0.04920692944507602), (132, 0.011512719695776791), (133, 0.011535327484070894), (134, 0.031070872406606144), (135, 0.00862445984527217), (136, 0.00681939477198474), (137, 0.004903513571935849), (138, 0.02412222659361444), (139, 0.016511342522734694), (140, 0.027525592616044686), (141, 0.007478728970364895), (142, 0.008389408626860849), (143, 0.020006538404049493), (144, 0.007750791879942469), (145, 0.006373205849422989), (146, 0.0), (147, 0.012232828695916085), (148, 0.02844961522371296), (149, 0.10618963102178569), (150, 0.08415776367255502), (151, 0.01321339629826342), (152, 0.01725198966468714), (153, 0.012676378604427632), (154, 0.055456476913781236), (155, 0.015268624865648785), (156, 0.03143858307521927), (157, 0.014275831252128415), (158, 0.04087814582354351), (159, 0.016449237767729833), (160, 0.030240239311469522), (161, 0.01516180937438183), (162, 0.032525233436943184), (163, 0.09568400266404099), (164, 0.12497636481940003), (165, 0.034284566936315944), (166, 0.09454438468524991), (167, 0.021562782284691134), (168, 0.0435433078320393), (169, 0.048871044137205735), (170, 0.04294977101426334), (171, 0.020370648832689135), (172, 0.023249710187381006), (173, 0.0), (174, 0.06603752035662853), (175, 0.06546706000818245), (176, 0.011494668434180597), (177, 0.0), (178, 0.10161128779663497), (179, 0.03288328727569747), (180, 0.0062839246967340235), (181, 0.00793549140527264), (182, 0.032642849742705406), (183, 0.03527665875613811), (184, 0.03579915652144503), (185, 0.028088601654985963), (186, 0.04835539239186521), (187, 0.03127821817503201), (188, 0.005941765453981306), (189, 0.0415008749449539), (190, 0.02455241574572109), (191, 0.023272536464522826), (192, 0.015575583200220525), (193, 0.0357933098206307), (194, 0.010289210610011921), (195, 0.022786815297559253), (196, 0.08838199692657794), (197, 0.04583725932470081), (198, 0.03130904206184893), (199, 0.026757865753754745), (200, 0.034080854884324024), (201, 0.00515065871586563), (202, 0.007418974751172331), (203, 0.035028817852506375), (204, 0.01895445902513137), (205, 0.027675174651458), (206, 0.02329987608990379), (207, 0.03143676547866935), (208, 0.028746841458124228), (209, 0.006041847283658921), (210, 0.14402535832262298), (211, 0.016440243346409276), (212, 0.09334722894565015), (213, 0.037611501773761415), (214, 0.004886394084924648), (215, 0.03658463679407083), (216, 0.04774164874697405), (217, 0.03204344805104221), (218, 0.01951173775003824), (219, 0.020319226785358635), (220, 0.029337163996097988), (221, 0.008149411409771344), (222, 0.045889885274126824), (223, 0.04895969240617071), (224, 0.02977751438788999), (225, 0.02923709421870585), (226, 0.012237672858020899), (227, 0.023425384990088408), (228, 0.03193938902370638), (229, 0.039628656041949775), (230, 0.02667359871213648), (231, 0.0), (232, 0.05555527344740429), (233, 0.027859146049243073), (234, 0.04078913946769186), (235, 0.017966987018047255), (236, 0.021624500884791648), (237, 0.01711117851453811), (238, 0.05182120208814549), (239, 0.018280689414295274), (240, 0.018621998529202263), (241, 0.024490259335057052), (242, 0.036007786825268354), (243, 0.024759754246601415), (244, 0.004936183359678058), (245, 0.03128627196818591), (246, 0.0054511839734267585), (247, 0.012267935377935454), (248, 0.006134898965771073), (249, 0.05702005673647305), (250, 0.013188611953657397), (251, 0.03428944094953792), (252, 0.019294854982662445), (253, 0.004910103662695226), (254, 0.01813874077133026), (255, 0.0), (256, 0.04816948069040029), (257, 0.036446791754657835), (258, 0.01145525297969372), (259, 0.020548237940710604), (260, 0.03348736372342115), (261, 0.012155071630270096), (262, 0.024694221510163306), (263, 0.01320694068540145), (264, 0.0), (265, 0.01627026515649921), (266, 0.04463368098457412), (267, 0.022917564605519972), (268, 0.016688145064060668), (269, 0.0), (270, 0.030246857582510604), (271, 0.037168651789589155), (272, 0.044665647000396345), (273, 0.013388495114473195), (274, 0.03176462905719131), (275, 0.039373946410943814), (276, 0.040467057633954424), (277, 0.013560923862963929), (278, 0.07411774000326639), (279, 0.028011804047915846), (280, 0.008136398695464961), (281, 0.012552548492539777), (282, 0.005234887072857801), (283, 0.022152933164237276), (284, 0.0), (285, 0.02178936638635117), (286, 0.00588305122060906), (287, 0.0047518248033125736), (288, 0.0), (289, 0.018552427335635363), (290, 0.013988770635632732), (291, 0.02352858706218551), (292, 0.04692348807090374), (293, 0.010699426156746267), (294, 0.04985802039649069), (295, 0.00556084182564897), (296, 0.023360592999454848), (297, 0.049744578744190235), (298, 0.06828541567798982), (299, 0.10881877855976649), (300, 0.0320667067805716), (301, 0.02097864592687579), (302, 0.019042604567920524), (303, 0.09503709846972991), (304, 0.029634202182437015), (305, 0.04444393070410187), (306, 0.028203967346016934), (307, 0.01314027135964255), (308, 0.01620802685259867), (309, 0.022136018555676786), (310, 0.01799528882461678), (311, 0.03342424197242023), (312, 0.01188610519009931), (313, 0.004233017562605477), (314, 0.018978085680950506), (315, 0.03069349097774806), (316, 0.013471200462568975), (317, 0.0), (318, 0.022399171514045503), (319, 0.05333271193812665), (320, 0.023800527441169037), (321, 0.0045545407760849916), (322, 0.047237524474604144), (323, 0.0), (324, 0.022914966797647346), (325, 0.011407312504822884), (326, 0.032650052252350896), (327, 0.01732179847747067), (328, 0.003946251887882099), (329, 0.034108514517172575), (330, 0.02540792160399458), (331, 0.03293140428635312), (332, 0.024423341682085015), (333, 0.017707776585950484), (334, 0.03618258176401344), (335, 0.026037359629989282), (336, 0.04198993454594635), (337, 0.0038321389367581772), (338, 0.010792300077118564), (339, 0.014473185440693937), (340, 0.023710627215808883), (341, 0.018513630944196127), (342, 0.043966893422520276), (343, 0.0048811219635073394), (344, 0.004851312678333258), (345, 0.01587677304589753), (346, 0.004249300340093753), (347, 0.011812545785286453), (348, 0.05067778707430136), (349, 0.018253033370426622), (350, 0.032721970139191967), (351, 0.020005342147065938), (352, 0.0158163301424249), (353, 0.008651179814133988), (354, 0.058334751532434566), (355, 0.006127366797916242), (356, 0.022611823083041986), (357, 0.0), (358, 0.025833989403610327), (359, 0.007396114741580397), (360, 0.0), (361, 0.025524076419421754), (362, 0.02818416034636307), (363, 0.019772764598213383), (364, 0.023771897969849392), (365, 0.018381052682885538), (366, 0.07597873309433369), (367, 0.012833501892142631), (368, 0.01651467818016636), (369, 0.028052708869776014), (370, 0.033358088252825255), (371, 0.030501127198899643), (372, 0.042484505336771484), (373, 0.02177871777718418), (374, 0.006819419691375833), (375, 0.03446455339975228), (376, 0.029092162394005902), (377, 0.009785079362459674), (378, 0.041144093290734846), (379, 0.02138950812559959), (380, 0.034238793563856375), (381, 0.021403671406014898), (382, 0.004676117983474873), (383, 0.017134999425859797), (384, 0.03213810839673184), (385, 0.0), (386, 0.006077395128598539), (387, 0.06526745268073166), (388, 0.020110565473575738), (389, 0.023142953304954493), (390, 0.01170017904622906), (391, 0.010640766250837421), (392, 0.005541035792151235), (393, 0.003717400999628176), (394, 0.005884862581975474), (395, 0.0), (396, 0.0968071635538307), (397, 0.0), (398, 0.013032483468596345), (399, 0.006668627147364958), (400, 0.048625722657152044), (401, 0.015920882123661214), (402, 0.036899885292129994), (403, 0.02790221432692598), (404, 0.02315064903548651), (405, 0.01475553866490692), (406, 0.0), (407, 0.010395967960845444), (408, 0.027814184539669596), (409, 0.0), (410, 0.041409109538145326), (411, 0.014105921706395588), (412, 0.035771590260487804), (413, 0.054232790736854164), (414, 0.015562363438133308), (415, 0.07537623701089026), (416, 0.03890661959296083), (417, 0.04976634395436669), (418, 0.0), (419, 0.04290659548367799), (420, 0.09004586330857299), (421, 0.04170380709721776), (422, 0.051445291248807826), (423, 0.012363367555410914), (424, 0.013320133672513734), (425, 0.020049266670600148), (426, 0.041788073879738506), (427, 0.004795634871284711), (428, 0.18596641221431343), (429, 0.004093092137763279), (430, 0.0), (431, 0.01625060603561697), (432, 0.005738135906456898), (433, 0.02079940121893915), (434, 0.030239392064398733), (435, 0.011996129659071316), (436, 0.0), (437, 0.06546594712778141), (438, 0.0), (439, 0.0), (440, 0.0), (441, 0.0750913885344764), (442, 0.029611180558536683), (443, 0.010422489032112178), (444, 0.011620310613725753), (445, 0.0), (446, 0.018351756160912416), (447, 0.006396438880561296), (448, 0.010942462901995851), (449, 0.024018196789977193), (450, 0.06695883512115888), (451, 0.011394725254885009), (452, 0.009950213668838682), (453, 0.014856844336341584), (454, 0.025425136857062068), (455, 0.0678518292291859), (456, 0.019578901583708966), (457, 0.012998379995162778), (458, 0.007677760866900253), (459, 0.00734976258632368), (460, 0.0), (461, 0.029862266676914363), (462, 0.0), (463, 0.0), (464, 0.0), (465, 0.0), (466, 0.050619887639679714), (467, 0.028354145612995083), (468, 0.013730923440304545), (469, 0.016557410665414513), (470, 0.01998854196544184), (471, 0.009899665520685226), (472, 0.02429801207118803), (473, 0.11152736228262713), (474, 0.0), (475, 0.015425028525766594), (476, 0.053516178920321025), (477, 0.06880656679565497), (478, 0.013381434032401399), (479, 0.021632571128170564), (480, 0.06893300979136217), (481, 0.0), (482, 0.0), (483, 0.09533002330449455), (484, 0.03069934428333656), (485, 0.02138648467396317), (486, 0.024076960065445158), (487, 0.031229758799820963), (488, 0.02384086199249752), (489, 0.01800866214011909), (490, 0.032681421729179747), (491, 0.011682223124134014), (492, 0.0), (493, 0.05348210256988149), (494, 0.01106819740001638), (495, 0.0763869016272441), (496, 0.0), (497, 0.015040668079895639), (498, 0.0069512623730292435), (499, 0.005020381090142528), (500, 0.023501728109865477), (501, 0.032496039949928876), (502, 0.015686083914526965), (503, 0.03158857133813518), (504, 0.0), (505, 0.10966848766340348), (506, 0.0), (507, 0.03293981661749682), (508, 0.04973852573696149), (509, 0.0), (510, 0.03497734674785268), (511, 0.03461454289895271), (512, 0.014939410914666364), (513, 0.025623714426387712), (514, 0.009292801355198938), (515, 0.004163863528865979), (516, 0.056930907684258424), (517, 0.004527209458521479), (518, 0.020755209072592977), (519, 0.0074780412046410736), (520, 0.0), (521, 0.0), (522, 0.0), (523, 0.01844071288446058), (524, 0.010546682524667863), (525, 0.00935156671798959), (526, 0.0), (527, 0.01502529858289252), (528, 0.02651787388163467), (529, 0.0051956510859180885), (530, 0.006354865623075951), (531, 0.0610550176680937), (532, 0.0), (533, 0.017121663160301236), (534, 0.025703075116926714), (535, 0.03127826831382582), (536, 0.0), (537, 0.021434252007008964), (538, 0.008244866555387345), (539, 0.050451476056635906), (540, 0.017346078470035935), (541, 0.02073976982701265), (542, 0.06502388218592858), (543, 0.0339316314635816), (544, 0.017962934304348737), (545, 0.018242839799532735), (546, 0.007133152541188682), (547, 0.04084009323709107), (548, 0.03921795977572534), (549, 0.030504799379834906), (550, 0.0), (551, 0.007334107672901617), (552, 0.0), (553, 0.01671376786422147), (554, 0.02219776390793717), (555, 0.015895416504965256), (556, 0.03527875653559623), (557, 0.004756919478868634), (558, 0.004208490292651201), (559, 0.0), (560, 0.010120073779753996), (561, 0.005316340296746512), (562, 0.0), (563, 0.03299685307745601), (564, 0.01996884697521202), (565, 0.020630145157475077), (566, 0.011071917569004691), (567, 0.04626206255864943), (568, 0.012939678643728466), (569, 0.023988488264567266), (570, 0.005785796847926938), (571, 0.005371560418556313), (572, 0.030359024416016244), (573, 0.03992708706402479), (574, 0.061467421117904625), (575, 0.03090251984364424), (576, 0.010042718791053654), (577, 0.07970617585473389), (578, 0.015906811878562938), (579, 0.05242415928888738), (580, 0.005499740390551202), (581, 0.03421369551082184), (582, 0.07472037512519834), (583, 0.025810842680454443), (584, 0.04239539757199724), (585, 0.012868153368954562), (586, 0.03617861046156879), (587, 0.1257927430818875), (588, 0.010547117951543141), (589, 0.017304448992106602), (590, 0.013598356265346046), (591, 0.025539434496493263), (592, 0.02858049213752526), (593, 0.0), (594, 0.013567734221855435), (595, 0.012122849416432949), (596, 0.013859492567071485), (597, 0.01728979284558326), (598, 0.0), (599, 0.013682758600678085), (600, 0.04231126517658057), (601, 0.05915217938541455), (602, 0.014847099735478844), (603, 0.0038831776044558905), (604, 0.01313126946848759), (605, 0.0), (606, 0.008032881259633577), (607, 0.06551438659919355), (608, 0.012265390659608102), (609, 0.026974674213453783), (610, 0.02800190436076968), (611, 0.08555041543937654), (612, 0.020788621008042803), (613, 0.11245293131098388), (614, 0.0), (615, 0.017213245018324948), (616, 0.0), (617, 0.024720460219623326), (618, 0.043010039684131265), (619, 0.0), (620, 0.027958228067882257), (621, 0.005245091115912882), (622, 0.00590372206094753), (623, 0.0), (624, 0.024922303315507786), (625, 0.0047839922879523485), (626, 0.0277913664423365), (627, 0.03739605087417136), (628, 0.03475209236715108), (629, 0.011625610311592725), (630, 0.019267352899915824), (631, 0.0070194969142782886), (632, 0.021182401677132853), (633, 0.007555050476199953), (634, 0.11273647980632893), (635, 0.0), (636, 0.011181558510704275), (637, 0.0), (638, 0.019260913640824835), (639, 0.0158915793926109), (640, 0.012885202316575802), (641, 0.0), (642, 0.01449277237823741), (643, 0.017938389773063328), (644, 0.02567453181420392), (645, 0.013782155954355215), (646, 0.009923054745242427), (647, 0.018055997508695895), (648, 0.012701916664198913), (649, 0.0), (650, 0.0), (651, 0.0), (652, 0.08190575971735281), (653, 0.005745388898842547), (654, 0.03986660940244454), (655, 0.006201685964101477), (656, 0.009189258453698178), (657, 0.031695435728665435), (658, 0.024759157486456396), (659, 0.014196970749562152), (660, 0.01711177169890913), (661, 0.05794231802014728), (662, 0.0), (663, 0.0052066964287338716), (664, 0.02945119561356455), (665, 0.018515927868055646), (666, 0.019553933509832852), (667, 0.008314120609592225), (668, 0.03450906120753879), (669, 0.009083859064217614), (670, 0.015264209620947922), (671, 0.011410464031901652), (672, 0.041570810853187305), (673, 0.06059891877891918), (674, 0.03286792828066449), (675, 0.053378082823087), (676, 0.08743716446149544), (677, 0.014609112637385211), (678, 0.026099122167035117), (679, 0.043750661966081225), (680, 0.01857534221725199), (681, 0.05747589919179957), (682, 0.0), (683, 0.026998949033258154), (684, 0.007361284921144053), (685, 0.005803417995938307), (686, 0.0), (687, 0.012762857466147328), (688, 0.0), (689, 0.042700313531364054), (690, 0.020487940708181135), (691, 0.03301053482815931), (692, 0.04698592936673561), (693, 0.02017388287393377), (694, 0.014564358203068964), (695, 0.011682369013492552), (696, 0.014123304037527533), (697, 0.03829366310416835), (698, 0.013405345823036017), (699, 0.0), (700, 0.014011091255650674), (701, 0.0), (702, 0.014382895697218715), (703, 0.0), (704, 0.08243224786032313), (705, 0.0), (706, 0.04355697046449172), (707, 0.00782119170375367), (708, 0.013858159841374142), (709, 0.01753512777372758), (710, 0.029576567658335128), (711, 0.018524131774388233), (712, 0.0), (713, 0.0), (714, 0.008436354014216966), (715, 0.029428420325178638), (716, 0.005669853169034712), (717, 0.049347117828460005), (718, 0.04305301297041732), (719, 0.009284221868249187), (720, 0.07291961509365699), (721, 0.03672769542646852), (722, 0.025090139933533075), (723, 0.020662829537991402), (724, 0.03260619976376813), (725, 0.0), (726, 0.031931866245814414), (727, 0.0), (728, 0.038358843237544356), (729, 0.0), (730, 0.010521535912919714), (731, 0.05159445808817561), (732, 0.04275361712363318), (733, 0.0), (734, 0.007230243487386556), (735, 0.0328814242285535), (736, 0.017368943036712936), (737, 0.0057765020893376815), (738, 0.0), (739, 0.03181340680466955), (740, 0.02712932821566838), (741, 0.013310273917680096), (742, 0.010197289100555009), (743, 0.014494504609223227), (744, 0.028900643879943566), (745, 0.015320296100191706), (746, 0.021762187660945197), (747, 0.014298179714323034), (748, 0.00811960674297096), (749, 0.0), (750, 0.0545221685387313), (751, 0.008311239181552316), (752, 0.043710528241971996), (753, 0.019101220490749807), (754, 0.023457995562002613), (755, 0.033595595550182884), (756, 0.04088784147246778), (757, 0.01122444509706681), (758, 0.01396247375500311), (759, 0.00452950171283967), (760, 0.009226033439402098), (761, 0.02171071674148265), (762, 0.014630561460363812), (763, 0.0), (764, 0.02859442698639835), (765, 0.0), (766, 0.004829678027682349), (767, 0.02670467611567077), (768, 0.037573314157513464), (769, 0.01009165208273632), (770, 0.0343828869258008), (771, 0.01020408624310424), (772, 0.004347573120844089), (773, 0.032494394459492204), (774, 0.02837814397750742), (775, 0.022546534792200486), (776, 0.012296022663213465), (777, 0.02327492050891135), (778, 0.043638919915680315), (779, 0.009632908278205005), (780, 0.0), (781, 0.024866002104790126), (782, 0.04375535395560972), (783, 0.0074777777149735965), (784, 0.02682883660019183), (785, 0.0077595608113773225), (786, 0.027056711441111554), (787, 0.021802921567958475), (788, 0.016993927378005175), (789, 0.00447216028228236), (790, 0.010118909214405069), (791, 0.026849656491839742), (792, 0.010703810967421037), (793, 0.021009268945604523), (794, 0.03116874605501286), (795, 0.03085917285503497), (796, 0.0), (797, 0.0), (798, 0.0), (799, 0.030197438929615725), (800, 0.09499644031720644), (801, 0.0), (802, 0.004285351465281542), (803, 0.06174027241926689), (804, 0.014247366531237936), (805, 0.015942786841405127), (806, 0.036852959761972455), (807, 0.010954091431532807), (808, 0.030936305841293275), (809, 0.034377687050921014), (810, 0.011688587178369986), (811, 0.004643721331423851), (812, 0.007493961967796075), (813, 1.0), (814, 0.045383218029016945), (815, 0.02927507327678764), (816, 0.024538315433394114), (817, 0.0), (818, 0.006026294427844237), (819, 0.0), (820, 0.011794860435643494), (821, 0.03421475062572068), (822, 0.0), (823, 0.21578853909502327), (824, 0.0), (825, 0.019631890350456635), (826, 0.009192464375023182), (827, 0.039859741300788724), (828, 0.019515003587417833), (829, 0.0051941667120710714), (830, 0.020733300828640475), (831, 0.011322590000446772), (832, 0.018662254581186886), (833, 0.021503796977816597), (834, 0.01370362532199887), (835, 0.0), (836, 0.04166502109739138), (837, 0.0), (838, 0.03246893656217118), (839, 0.008053933757853087), (840, 0.020404740657257805), (841, 0.013285390002063135), (842, 0.014053202910805833), (843, 0.016979829256165167), (844, 0.013969584506287533), (845, 0.0), (846, 0.004114610398464259), (847, 0.008622551476208195), (848, 0.008222316832007873), (849, 0.008313415747533628), (850, 0.025583091537247898), (851, 0.0), (852, 0.013954484155538191), (853, 0.0), (854, 0.045549207410221636), (855, 0.0042357782594747), (856, 0.03282131838064492), (857, 0.004815725939472196), (858, 0.04277729231652418), (859, 0.021699570601473026), (860, 0.0), (861, 0.0), (862, 0.0), (863, 0.006006442657043434), (864, 0.0161769528216592), (865, 0.0), (866, 0.0158111834639311), (867, 0.028932099102539185), (868, 0.0), (869, 0.0), (870, 0.4582408553739051), (871, 0.004774350735876413), (872, 0.028111350295655434), (873, 0.04482585918990219), (874, 0.0331597729695875), (875, 0.014663586459729889), (876, 0.008234062558186822), (877, 0.018470451195722666), (878, 0.013411650810715535), (879, 0.012958609646408898), (880, 0.04247391642727983), (881, 0.0055840507691015465), (882, 0.0), (883, 0.048352660145151584), (884, 0.005208947167801077), (885, 0.0), (886, 0.0411916308916936), (887, 0.0), (888, 0.013032028362288504), (889, 0.032328550132803086), (890, 0.03510033546115929), (891, 0.0), (892, 0.013126846668972927), (893, 0.02810416250290701), (894, 0.01537128370779026), (895, 0.01782385412496435), (896, 0.008633329439732444), (897, 0.004930285984318884), (898, 0.024822014526053662), (899, 0.02471548121198404), (900, 0.021818105344794943), (901, 0.018605229020253165), (902, 0.0), (903, 0.010492664383993062), (904, 0.009374220861583973), (905, 0.0), (906, 0.0), (907, 0.0), (908, 0.021971748263007577), (909, 0.0), (910, 0.035737827859118), (911, 0.014502196615616858), (912, 0.0), (913, 0.01856371390895987), (914, 0.05211836943735772), (915, 0.007593716605210608), (916, 0.0), (917, 0.023928476905166095), (918, 0.05920088605883742), (919, 0.014983529240950854), (920, 0.04596930882100922), (921, 0.0), (922, 0.0529688155450859), (923, 0.004248734845984209), (924, 0.004824910860341759), (925, 0.0), (926, 0.0), (927, 0.0), (928, 0.011741154496396034), (929, 0.04450548880750717), (930, 0.01384516078311426), (931, 0.045686981396436996), (932, 0.01265104208658112), (933, 0.017894697137216323), (934, 0.010378267571207455), (935, 0.019639547612412354), (936, 0.029902639138004648), (937, 0.015889759307911443), (938, 0.03397954895258927), (939, 0.027755590320375872), (940, 0.0), (941, 0.00915908367892982), (942, 0.012894790338435413), (943, 0.03342790150369793), (944, 0.08572896296715192), (945, 0.005683934347544766), (946, 0.030207899975238418), (947, 0.009559689877097275), (948, 0.07828836801441177), (949, 0.0047239227795339645), (950, 0.01909206779150096), (951, 0.02114795205891009), (952, 0.015364313269513478), (953, 0.011896302861679482), (954, 0.0), (955, 0.11597960277260794), (956, 0.03696337441127353), (957, 0.0), (958, 0.013794409891745237), (959, 0.024592494862229215), (960, 0.028611111512585694), (961, 0.006729283024774898), (962, 0.014785269524311665), (963, 0.05320405055173038), (964, 0.009062622738560133), (965, 0.007809938443296032), (966, 0.024886069937229496), (967, 0.01170726416257456), (968, 0.01306801361506266), (969, 0.10369857164487108), (970, 0.008861261418697404), (971, 0.0), (972, 0.045403216208797295), (973, 0.012504095995216206), (974, 0.011513890478774403), (975, 0.008939294091900378), (976, 0.03595342681588866), (977, 0.053882122587580274), (978, 0.027158180626496407), (979, 0.01067342221424358), (980, 0.06141573884794232), (981, 0.01063808183310665), (982, 0.018953634905755343), (983, 0.007428321036886678), (984, 0.023754845835095132), (985, 0.015230157468388558), (986, 0.0), (987, 0.0), (988, 0.0580369259297122), (989, 0.012229646261461849), (990, 0.010814515976604969), (991, 0.04854442236651069), (992, 0.03402716439947152), (993, 0.022414321917115235), (994, 0.06635965402806206), (995, 0.025094372613498672), (996, 0.008119105534102203), (997, 0.0), (998, 0.02144382121483538), (999, 0.015417214239707041), (1000, 0.024931033027152723), (1001, 0.06305699534304032), (1002, 0.037737934576467805), (1003, 0.011934113056393705), (1004, 0.01492505331943299), (1005, 0.0074150803303990485), (1006, 0.08287119119673851), (1007, 0.0), (1008, 0.024699083917505464), (1009, 0.008770396526635697), (1010, 0.009336490544867838), (1011, 0.0), (1012, 0.014307102765053733), (1013, 0.017768416017091414), (1014, 0.007099044948173631), (1015, 0.05761943870347318), (1016, 0.03318698372126872), (1017, 0.01686405369213715), (1018, 0.03152063319955889), (1019, 0.01714444233300738), (1020, 0.011560442633023575), (1021, 0.041234680339142425), (1022, 0.0), (1023, 0.0), (1024, 0.12419846557095111), (1025, 0.0380033735385053), (1026, 0.027698675135239586), (1027, 0.028119945740392022), (1028, 0.023940648979110534), (1029, 0.027128550844629482), (1030, 0.004146277397663355), (1031, 0.004214797014238899), (1032, 0.02242117120693241), (1033, 0.035418548707965194), (1034, 0.03127669743650207), (1035, 0.09925170538152248), (1036, 0.0), (1037, 0.0), (1038, 0.03316309893120081), (1039, 0.016703215905885818), (1040, 0.010924373687182758), (1041, 0.01241547694797723), (1042, 0.0), (1043, 0.013786000365832881), (1044, 0.04378603498159694), (1045, 0.016511788834387617), (1046, 0.02995376237121407), (1047, 0.006152566609568755), (1048, 0.004798861743082098), (1049, 0.013118553698013983), (1050, 0.0), (1051, 0.00850633298816077), (1052, 0.023904569070107205), (1053, 0.020951910637147818), (1054, 0.032087517345183614), (1055, 0.0151233343485674), (1056, 0.020846482367703114), (1057, 0.004628172299286757), (1058, 0.018969382868081804), (1059, 0.061950417074287084), (1060, 0.0), (1061, 0.02096729278002052), (1062, 0.007062222007945713), (1063, 0.00989514416202297), (1064, 0.01221107904851168), (1065, 0.016167617775627207), (1066, 0.0), (1067, 0.02943875318351794), (1068, 0.028549762373745097), (1069, 0.0), (1070, 0.03172422751296795), (1071, 0.0), (1072, 0.0347167301992893), (1073, 0.027088544763131498), (1074, 0.051034135403700255), (1075, 0.011715128441160802), (1076, 0.027202091569892995), (1077, 0.010660081864833108), (1078, 0.028352751025096143), (1079, 0.04388208218557437), (1080, 0.018265505627971076), (1081, 0.010862861070150658), (1082, 0.07930367505891785), (1083, 0.034843737581247036), (1084, 0.02114456254278295), (1085, 0.035722942664579815), (1086, 0.05667638352319516), (1087, 0.009415242880477808), (1088, 0.0), (1089, 0.013517290224519442), (1090, 0.017554025592355783), (1091, 0.017573321287615323), (1092, 0.004946386340997632), (1093, 0.031769398807377454), (1094, 0.016777068130092342), (1095, 0.019048420552713653), (1096, 0.013092139371894629), (1097, 0.023470319454779405), (1098, 0.00967244340695447), (1099, 0.008558545595749789), (1100, 0.03695559806927556), (1101, 0.02297340529399015), (1102, 0.0088641830962505), (1103, 0.04132028329148588), (1104, 0.005257350643154325), (1105, 0.008045187880554715), (1106, 0.026701940132089517), (1107, 0.0), (1108, 0.0), (1109, 0.024877417309887496), (1110, 0.046290002581016794), (1111, 0.024607302256512645), (1112, 0.00423345130420676), (1113, 0.009374268147820653), (1114, 0.016029787876062906), (1115, 0.005382280255524078), (1116, 0.09215465805642489), (1117, 0.0), (1118, 0.019533470897476986), (1119, 0.01536849450361415), (1120, 0.06363053857952343), (1121, 0.0), (1122, 0.021860138438017145), (1123, 0.01700301766361932), (1124, 0.0207249447969328), (1125, 0.03828983184647856), (1126, 0.0), (1127, 0.029921070338205662), (1128, 0.029070524300355473), (1129, 0.029434127629952678), (1130, 0.014758676710397689), (1131, 0.012860032921841217), (1132, 0.025269684016945924), (1133, 0.01510010842306653), (1134, 0.06779224909485942), (1135, 0.008335374468226074), (1136, 0.026716446143530016), (1137, 0.013280763709705802), (1138, 0.0088836079309783), (1139, 0.02475106346990675), (1140, 0.011942310605047232), (1141, 0.0), (1142, 0.006064371639430118), (1143, 0.02501680428268517), (1144, 0.05568255224291455), (1145, 0.0), (1146, 0.0627941987485574), (1147, 0.0), (1148, 0.012387918439590235), (1149, 0.009142007264970322), (1150, 0.0048573059060549794), (1151, 0.015600650524957401), (1152, 0.03950049615775654), (1153, 0.02245638829898043), (1154, 0.010089062503001798), (1155, 0.0298783513669158), (1156, 0.04808286718116272), (1157, 0.0), (1158, 0.0057148693079882365), (1159, 0.032847712957275094), (1160, 0.008841331747095255), (1161, 0.009251203947510321), (1162, 0.02186787169067471), (1163, 0.013340764774445945), (1164, 0.0), (1165, 0.044468846528684165), (1166, 0.0), (1167, 0.018069919011489726), (1168, 0.0), (1169, 0.02548939496453287), (1170, 0.01910157923801324), (1171, 0.0048287200713923615), (1172, 0.018174679862145156), (1173, 0.0), (1174, 0.009249697773250902), (1175, 0.016805925596548695), (1176, 0.004784301309740506), (1177, 0.03794041407253668), (1178, 0.014807813257134095), (1179, 0.02461777229046444), (1180, 0.024867199501659158), (1181, 0.005057582043420134), (1182, 0.012527763678929297), (1183, 0.1138043381601171), (1184, 0.0095462470685844), (1185, 0.004419635061868299), (1186, 0.0), (1187, 0.04023087762823127), (1188, 0.10936090976553697), (1189, 0.0), (1190, 0.023004527152549442), (1191, 0.05286037182783434), (1192, 0.040936391659847804), (1193, 0.03210384895237104), (1194, 0.008537712519133458), (1195, 0.0055954569498382145), (1196, 0.03345318845653172), (1197, 0.009183212026661246), (1198, 0.026510978426031503), (1199, 0.026889597733376597), (1200, 0.012676493020730427), (1201, 0.03050308041151449), (1202, 0.03238267299112439), (1203, 0.00965798816511733), (1204, 0.036676786937917115), (1205, 0.0), (1206, 0.012038509593396592), (1207, 0.03494178640375208), (1208, 0.02281573831626948), (1209, 0.010823856087492856), (1210, 0.0), (1211, 0.0), (1212, 0.010000185519864431), (1213, 0.04076120642581857), (1214, 0.03830689041926943), (1215, 0.0170812316658561), (1216, 0.014658571621317337), (1217, 0.028312291492801456), (1218, 0.0), (1219, 0.0), (1220, 0.046902232841331166), (1221, 0.00435277920228943), (1222, 0.010606378696352007), (1223, 0.0), (1224, 0.0), (1225, 0.03661012680862831), (1226, 0.00804226880090713), (1227, 0.004874576446519312), (1228, 0.022267661445221996), (1229, 0.0), (1230, 0.05231928176133497), (1231, 0.0), (1232, 0.0), (1233, 0.050661435460018986), (1234, 0.02127757282294515), (1235, 0.0), (1236, 0.007431066076957602), (1237, 0.027470697019020673), (1238, 0.1306893940867623), (1239, 0.023905061233180647), (1240, 0.004641743688681182), (1241, 0.0), (1242, 0.0), (1243, 0.04519065755884846), (1244, 0.028074202384402787), (1245, 0.01484592917544047), (1246, 0.011380091635447119), (1247, 0.033263201513307764), (1248, 0.009005414635317075), (1249, 0.0060619919389199), (1250, 0.0), (1251, 0.0), (1252, 0.0), (1253, 0.01847934729160143), (1254, 0.019385112154815774), (1255, 0.004120005728015718), (1256, 0.06502020316893778), (1257, 0.012980638228178493), (1258, 0.0), (1259, 0.07944315551463912), (1260, 0.01677743932300594), (1261, 0.0), (1262, 0.015873783115854426), (1263, 0.011553638441311246), (1264, 0.008267205483970476), (1265, 0.04117862447706486), (1266, 0.024034355568738557), (1267, 0.007951574482068638), (1268, 0.0), (1269, 0.028536959027700023), (1270, 0.022795840246530807), (1271, 0.047379252162771376), (1272, 0.03145126154544892), (1273, 0.014422695692460696), (1274, 0.02587496294550888), (1275, 0.0752687029913468), (1276, 0.004645215199305026), (1277, 0.050465702556563616), (1278, 0.02142421176852814), (1279, 0.03760184240559292), (1280, 0.019646640463255722), (1281, 0.012436325626209162), (1282, 0.12714887083401077), (1283, 0.030883394500167197), (1284, 0.005984197534076971), (1285, 0.006033135049896642), (1286, 0.03218944524562748), (1287, 0.018636903485961448), (1288, 0.007668064722547491), (1289, 0.0188236348241059), (1290, 0.01200518015704308), (1291, 0.013740618447300526), (1292, 0.004263868868971452), (1293, 0.00823808659351462), (1294, 0.0549224888662149), (1295, 0.0), (1296, 0.2529397869699989), (1297, 0.01721622385202966), (1298, 0.014869709045015191), (1299, 0.01890974180732638), (1300, 0.009382349659284278), (1301, 0.0), (1302, 0.01377176559732033), (1303, 0.031966286037881764), (1304, 0.019530445715953977), (1305, 0.004635386204186558), (1306, 0.022528823980117844), (1307, 0.0), (1308, 0.0), (1309, 0.08752638915540568), (1310, 0.005124282047750902), (1311, 0.031680351658676456), (1312, 0.004520229987423807), (1313, 0.0), (1314, 0.07618293662817432), (1315, 0.0043924263699000885), (1316, 0.0), (1317, 0.006052545405983864), (1318, 0.05656699231913063), (1319, 0.025623236073055545), (1320, 0.023772726667286446), (1321, 0.006044444171329097), (1322, 0.047578812465618806), (1323, 0.016387794354888578), (1324, 0.042053165991858654), (1325, 0.0), (1326, 0.026166799226119787), (1327, 0.0), (1328, 0.012262659520228873), (1329, 0.0), (1330, 0.0), (1331, 0.02689857190570843), (1332, 0.01877709043255594), (1333, 0.0), (1334, 0.013531864252957142), (1335, 0.0052069564775865254), (1336, 0.004668561265865794), (1337, 0.05726289057528812), (1338, 0.01710691372180439), (1339, 0.014139185757164338), (1340, 0.008492146521726621), (1341, 0.023346311605764763), (1342, 0.017689632494989716), (1343, 0.012185283663241203), (1344, 0.027043929173370486), (1345, 0.0), (1346, 0.00944238773103385), (1347, 0.022251874767857973), (1348, 0.03624070222486016), (1349, 0.004506698585823869), (1350, 0.09092181151883033), (1351, 0.06613411367901156), (1352, 0.05780651556007395), (1353, 0.0), (1354, 0.0), (1355, 0.0), (1356, 0.017072684007874726), (1357, 0.00689562708764391), (1358, 0.10378325738223843), (1359, 0.14414128303962467), (1360, 0.0), (1361, 0.080955180719103), (1362, 0.00489448206817373), (1363, 0.012485657794037866), (1364, 0.007930248768138377), (1365, 0.007404426022013435), (1366, 0.041506811743246975), (1367, 0.03873162011369704), (1368, 0.018002974022645796), (1369, 0.016978498050270137), (1370, 0.014578304401622326), (1371, 0.0), (1372, 0.0), (1373, 0.015778753939726404), (1374, 0.007811991388969914), (1375, 0.06047887947417679), (1376, 0.0), (1377, 0.027453468975237583), (1378, 0.0), (1379, 0.0233947451593613), (1380, 0.022798224621143812), (1381, 0.005304508994105608), (1382, 0.09690796140243274), (1383, 0.0), (1384, 0.0), (1385, 0.0), (1386, 0.0), (1387, 0.0), (1388, 0.00460070068048718), (1389, 0.0), (1390, 0.04761204960702), (1391, 0.0), (1392, 0.009148459504453726), (1393, 0.022037682254516057), (1394, 0.00930729516279818), (1395, 0.026302565995260194), (1396, 0.0), (1397, 0.050401039517853796), (1398, 0.025672558854241224), (1399, 0.02719005376844056), (1400, 0.0), (1401, 0.0), (1402, 0.019531256002331868), (1403, 0.013145757124251846), (1404, 0.029674699619192373), (1405, 0.0), (1406, 0.017603745072360358), (1407, 0.0), (1408, 0.046590857929912924), (1409, 0.05440311046507337), (1410, 0.004583834133231465), (1411, 0.011473814866745872), (1412, 0.020590852150615832), (1413, 0.014775086961561278), (1414, 0.016044625789464147), (1415, 0.07796342680008247), (1416, 0.0), (1417, 0.015822048341714898), (1418, 0.00977113391622625), (1419, 0.04227935696270844), (1420, 0.1727129308212663), (1421, 0.008790421471988896), (1422, 0.07121537000942721), (1423, 0.012194067999449401), (1424, 0.0), (1425, 0.0061892268910436685), (1426, 0.007650415304998201), (1427, 0.0), (1428, 0.04784284344382422), (1429, 0.028084660691722645), (1430, 0.01961275002250675), (1431, 0.017372369032403013), (1432, 0.03499451938668375), (1433, 0.02210956074869029), (1434, 0.025381661800663827), (1435, 0.022444491150757674), (1436, 0.0), (1437, 0.005114196202079692), (1438, 0.03617000754678495), (1439, 0.0629846395199998), (1440, 0.03550360347321628), (1441, 0.0), (1442, 0.07397142007225477), (1443, 0.01894023767712761), (1444, 0.0), (1445, 0.01418159306871103), (1446, 0.01150247093735861), (1447, 0.012579790298090806), (1448, 0.014929756968649168), (1449, 0.011263223524218997), (1450, 0.012862557889661508), (1451, 0.030043786953177817), (1452, 0.00759798279901514), (1453, 0.03316760725624933), (1454, 0.0), (1455, 0.0659378872973271), (1456, 0.010697302067528827), (1457, 0.02888824447392123), (1458, 0.0073324822874244145), (1459, 0.03363112721740977), (1460, 0.007644712390199106), (1461, 0.037345018325138396), (1462, 0.006864445494929725), (1463, 0.012382930057343198), (1464, 0.011021052210135834), (1465, 0.024878783577998664), (1466, 0.0), (1467, 0.01839131356786683), (1468, 0.032553530506645736), (1469, 0.017611137259442033), (1470, 0.033814791203898624), (1471, 0.013675808983504924), (1472, 0.0), (1473, 0.04432167359751988), (1474, 0.02189030962522279), (1475, 0.0), (1476, 0.0), (1477, 0.1080855817629384), (1478, 0.0), (1479, 0.015852619704633423), (1480, 0.005179785830242518), (1481, 0.02435470777520711), (1482, 0.0287838359767481), (1483, 0.028358780225731933), (1484, 0.01659642252623262), (1485, 0.0), (1486, 0.013916327055719352), (1487, 0.0), (1488, 0.026577838126634903), (1489, 0.0356424187706124), (1490, 0.05552791360945236), (1491, 0.02465915632240678), (1492, 0.023378563107672126), (1493, 0.0), (1494, 0.010975172129369142), (1495, 0.0467652958628543), (1496, 0.007082854889251272), (1497, 0.07791403640160066), (1498, 0.0), (1499, 0.004749826923148531), (1500, 0.02987228983872294), (1501, 0.004733535886332832), (1502, 0.004765200347723848), (1503, 0.017289028233954933), (1504, 0.0), (1505, 0.015128275044712217), (1506, 0.034574385080946915), (1507, 0.021216488068089977), (1508, 0.0), (1509, 0.008344901988661077), (1510, 0.12144757299512393), (1511, 0.0), (1512, 0.0121326220823718), (1513, 0.02511426707767693), (1514, 0.09179861246454962), (1515, 0.010698233291867271), (1516, 0.0), (1517, 0.0704371416968518), (1518, 0.027270596568875587), (1519, 0.02078701905937432), (1520, 0.0), (1521, 0.0), (1522, 0.0), (1523, 0.00775417711670759), (1524, 0.07054600745351336), (1525, 0.10397516619953215), (1526, 0.0), (1527, 0.025985363331960384), (1528, 0.00653143280051317), (1529, 0.0), (1530, 0.0), (1531, 0.040335731807863005), (1532, 0.0), (1533, 0.014304478484754279), (1534, 0.0), (1535, 0.036214563842144346), (1536, 0.0), (1537, 0.08832924838614935), (1538, 0.0667865334446142), (1539, 0.0), (1540, 0.0), (1541, 0.0), (1542, 0.020673240796863234), (1543, 0.0), (1544, 0.0), (1545, 0.004343311140206103), (1546, 0.01443215315517606), (1547, 0.017500341004939052), (1548, 0.004675786544291125), (1549, 0.027574107947651093), (1550, 0.014836427701129444), (1551, 0.004014105685887034), (1552, 0.0), (1553, 0.007671020547854551), (1554, 0.027983675549006375), (1555, 0.0), (1556, 0.006972160282373643), (1557, 0.0), (1558, 0.014871001382846367), (1559, 0.0), (1560, 0.004728986684311537), (1561, 0.0038572681408141586), (1562, 0.011741867304948233), (1563, 0.006873667213408217), (1564, 0.0490051857183682), (1565, 0.026808614196916047), (1566, 0.0), (1567, 0.0), (1568, 0.024136070531449418), (1569, 0.04303567524003911), (1570, 0.009710717065641361), (1571, 0.014279881285169164), (1572, 0.022656622816290554), (1573, 0.013199805391546705), (1574, 0.010310335817912996), (1575, 0.0), (1576, 0.004773842332212539), (1577, 0.03653893175110953), (1578, 0.01011003714847712), (1579, 0.01400067222207644), (1580, 0.008805273264168448), (1581, 0.007618006289255942), (1582, 0.0), (1583, 0.03757065592244001), (1584, 0.00956155881614959), (1585, 0.046003672514805465), (1586, 0.033182699188394955), (1587, 0.0075538770481530446), (1588, 0.014443436401478837), (1589, 0.009441913613479201), (1590, 0.0), (1591, 0.02698375647121108), (1592, 0.013290569965074564), (1593, 0.0), (1594, 0.010678197337873344), (1595, 0.013617567847780468), (1596, 0.0184401099749771), (1597, 0.04760525313635165), (1598, 0.0), (1599, 0.011874225475497909), (1600, 0.0), (1601, 0.0), (1602, 0.007969738177129227), (1603, 0.011930073779220327), (1604, 0.0), (1605, 0.012802733860393123), (1606, 0.013504727539288178), (1607, 0.01754180465239722), (1608, 0.0347860331788862), (1609, 0.004204205782347893), (1610, 0.013333361982089623), (1611, 0.047743472656529486), (1612, 0.004794720259951421), (1613, 0.0), (1614, 0.0), (1615, 0.021447040795257864), (1616, 0.02106317763433773), (1617, 0.08564333487682593), (1618, 0.025815240580929637), (1619, 0.016955279045762918), (1620, 0.0), (1621, 0.005033810840700116), (1622, 0.07992781460697299), (1623, 0.005203977255079323), (1624, 0.012157881015966498), (1625, 0.03195737297026293), (1626, 0.021858236723386652), (1627, 0.008894019042717517), (1628, 0.035372384249444264), (1629, 0.01133418516297642), (1630, 0.012941371666263572), (1631, 0.0), (1632, 0.02588526453941878), (1633, 0.031506088326920215), (1634, 0.0), (1635, 0.013112511100077356), (1636, 0.006190419974894378), (1637, 0.02569670024899084), (1638, 0.0), (1639, 0.02315763379751011), (1640, 0.0), (1641, 0.008796301358777396), (1642, 0.05518650945502179), (1643, 0.08091951247504649), (1644, 0.019463668544117747), (1645, 0.028969265522918373), (1646, 0.0), (1647, 0.02016287590656953), (1648, 0.0453812499616887), (1649, 0.03453461279314232), (1650, 0.04491827312153681), (1651, 0.01065342678503433), (1652, 0.051327440017313535), (1653, 0.012967770149482406), (1654, 0.018854533058762057), (1655, 0.02850740037934048), (1656, 0.004425989545396863), (1657, 0.0), (1658, 0.04559768312031812), (1659, 0.01613798572327403), (1660, 0.011984734652187641), (1661, 0.06262736186470949), (1662, 0.0), (1663, 0.013332020106627462), (1664, 0.02076877381196999), (1665, 0.0), (1666, 0.02071968543467367), (1667, 0.01716678109816932), (1668, 0.008410772043625888), (1669, 0.020436786803990886), (1670, 0.022883489554136053), (1671, 0.009764507329003438), (1672, 0.016009221576113432), (1673, 0.0), (1674, 0.026622762262494992), (1675, 0.03958690571683593), (1676, 0.0038666920478631775), (1677, 0.0), (1678, 0.0), (1679, 0.0), (1680, 0.023663829935670667), (1681, 0.008229523144136953), (1682, 0.019678084690924715), (1683, 0.0), (1684, 0.0), (1685, 0.07335979353117408), (1686, 0.02194660326289732), (1687, 0.019362368830574704), (1688, 0.008405983577213741), (1689, 0.008828505708063058), (1690, 0.0), (1691, 0.05441265147416335), (1692, 0.005698070535650268), (1693, 0.004943772535113993), (1694, 0.011860027123906675), (1695, 0.020744722085658855), (1696, 0.004570074362099037), (1697, 0.018721574524696298), (1698, 0.0), (1699, 0.019271674818495354), (1700, 0.014922486958321313), (1701, 0.013651082578371616), (1702, 0.036340345761570664), (1703, 0.017118196080247398), (1704, 0.0), (1705, 0.0), (1706, 0.05490536871015662), (1707, 0.019769204519493787), (1708, 0.01610188084796673), (1709, 0.020427006423290525), (1710, 0.07171135069337362), (1711, 0.004863332037592357), (1712, 0.0), (1713, 0.0131086387034223), (1714, 0.018184820082802602), (1715, 0.04350816752943823), (1716, 0.0), (1717, 0.019595096990628204), (1718, 0.009860856707147059), (1719, 0.0), (1720, 0.07595274376401043), (1721, 0.03269038236449194), (1722, 0.021781410843553846), (1723, 0.016776168882879357), (1724, 0.0), (1725, 0.05085005840485126), (1726, 0.03403107591496866), (1727, 0.01568751186445485), (1728, 0.012264713485938817), (1729, 0.0), (1730, 0.0), (1731, 0.01413501304676731), (1732, 0.005136479750469393), (1733, 0.006319229329020526), (1734, 0.01740002062772228), (1735, 0.025094093923025355), (1736, 0.0042520271913501695), (1737, 0.0), (1738, 0.0), (1739, 0.004635254719203539), (1740, 0.11327489168242302), (1741, 0.005836988497179404), (1742, 0.013761099167822172), (1743, 0.01210459909305258), (1744, 0.004790202062428666), (1745, 0.0), (1746, 0.0083357654899751), (1747, 0.024192553385514015), (1748, 0.010973864603906584), (1749, 0.009658244516769438), (1750, 0.03415826041641014), (1751, 0.004771698907282526), (1752, 0.006496772170221977), (1753, 0.04039961525627242), (1754, 0.0073291932881060645), (1755, 0.0), (1756, 0.0), (1757, 0.07623785009910279), (1758, 0.0077777152227066475), (1759, 0.005182552818047541), (1760, 0.0), (1761, 0.028188632040207655), (1762, 0.06100659272917419), (1763, 0.004624262409288755), (1764, 0.030762552421696357), (1765, 0.038334794548810495), (1766, 0.0), (1767, 0.009917221678823796), (1768, 0.025709064901008667), (1769, 0.006821516098311234), (1770, 0.0), (1771, 0.012717295305143482), (1772, 0.0), (1773, 0.028819882818062144), (1774, 0.0), (1775, 0.0179634577333722), (1776, 0.0), (1777, 0.014565576990397587), (1778, 0.0), (1779, 0.021466014025260716), (1780, 0.004492140267885524), (1781, 0.012942013784999316), (1782, 0.07495538584254857), (1783, 0.005707443524735395), (1784, 0.0), (1785, 0.0), (1786, 0.020108795531649376), (1787, 0.03616503620527185), (1788, 0.0), (1789, 0.0), (1790, 0.013459998755167513), (1791, 0.009219019598367056), (1792, 0.02231353540901307), (1793, 0.009088794755544735), (1794, 0.03991357633805355), (1795, 0.015500942762458081), (1796, 0.0), (1797, 0.007543098846734556), (1798, 0.004512479024951157), (1799, 0.0), (1800, 0.04778198733846079), (1801, 0.09421355617895387), (1802, 0.0654658944302298), (1803, 0.009122784411693717), (1804, 0.015120975315967598), (1805, 0.009246867151815663), (1806, 0.021323364129000075), (1807, 0.011222502917806602), (1808, 0.04759887670416622), (1809, 0.0), (1810, 0.0), (1811, 0.0), (1812, 0.0), (1813, 0.025792699232128676), (1814, 0.0), (1815, 0.032835203643829726), (1816, 0.011884457142739054), (1817, 0.004322989011757829), (1818, 0.030468120745889588), (1819, 0.0), (1820, 0.07219277420207544), (1821, 0.017489658294074565), (1822, 0.03166351155071805), (1823, 0.0), (1824, 0.009825533894175285), (1825, 0.012646541403398414), (1826, 0.027010533001682574), (1827, 0.07159466097669512), (1828, 0.017582251720970204), (1829, 0.007926217918277297), (1830, 0.005160596852841457), (1831, 0.0), (1832, 0.019264792521398816), (1833, 0.0), (1834, 0.010592204932668456), (1835, 0.0), (1836, 0.013139551929709834), (1837, 0.028109803075211326), (1838, 0.06043257411782062), (1839, 0.014800094351143968), (1840, 0.0), (1841, 0.006813585770854619), (1842, 0.023166415546535576), (1843, 0.0), (1844, 0.00610599391671841), (1845, 0.010341650052899514), (1846, 0.024750899246852788), (1847, 0.013793138829696433), (1848, 0.027593889125302584), (1849, 0.048703994918009065), (1850, 0.03667527026039154), (1851, 0.032401931689319166), (1852, 0.027091623075027504), (1853, 0.02390870431344004), (1854, 0.012552210783262113), (1855, 0.0), (1856, 0.015172908145474234), (1857, 0.004881408432801363), (1858, 0.012083915017611652), (1859, 0.004402929730311414), (1860, 0.015414340407130226), (1861, 0.004090292899382436), (1862, 0.0), (1863, 0.01550473996406859), (1864, 0.020251868345546858), (1865, 0.0), (1866, 0.01713413219537638), (1867, 0.0), (1868, 0.014345036680377603), (1869, 0.012081285007874745), (1870, 0.022377083585600487), (1871, 0.0), (1872, 0.034536966527968074), (1873, 0.025722125623973142), (1874, 0.004235215487302327), (1875, 0.022999046188910164), (1876, 0.0), (1877, 0.03864687891297652), (1878, 0.03321684391158956), (1879, 0.0), (1880, 0.005909373642977228), (1881, 0.05996647333535786), (1882, 0.006790446295856542), (1883, 0.009208390199641312), (1884, 0.01406509760963341), (1885, 0.0), (1886, 0.0), (1887, 0.0), (1888, 0.01568080607251874), (1889, 0.013528287081342514), (1890, 0.11744412178112948), (1891, 0.015138989622285538), (1892, 0.01879269813383779), (1893, 0.0445801471882595), (1894, 0.020086149530413582), (1895, 0.020440233678710458), (1896, 0.004442116754658615), (1897, 0.015861711092505056), (1898, 0.020230534845679736), (1899, 0.0), (1900, 0.014453294891593898), (1901, 0.0), (1902, 0.0525493996657709), (1903, 0.0), (1904, 0.004419523579263768), (1905, 0.004577525814385931), (1906, 0.0), (1907, 0.015956851376796664), (1908, 0.005312504667507742), (1909, 0.028338026590875726), (1910, 0.010475841379100155), (1911, 0.0), (1912, 0.0), (1913, 0.010548041706781195), (1914, 0.03876821068509143), (1915, 0.029879555714894996), (1916, 0.0), (1917, 0.0), (1918, 0.03492063704950626), (1919, 0.0), (1920, 0.006305553072092921), (1921, 0.02709244256798958), (1922, 0.0), (1923, 0.0040356244587673356), (1924, 0.011162950703869535), (1925, 0.0), (1926, 0.004679932709527276), (1927, 0.019233316332136804), (1928, 0.0), (1929, 0.0254097248765459), (1930, 0.012716497936750781), (1931, 0.028906519114269), (1932, 0.057008303504429286), (1933, 0.006461772803505119), (1934, 0.025023155772278986), (1935, 0.0), (1936, 0.03148969894832484), (1937, 0.01783566590303432), (1938, 0.02039245885768244), (1939, 0.024168114585166007), (1940, 0.0), (1941, 0.03749675402561818), (1942, 0.009954764521766614), (1943, 0.008731646805632232), (1944, 0.029199380797617698), (1945, 0.014380957067192343), (1946, 0.035874862437212836), (1947, 0.0), (1948, 0.018300369599456863), (1949, 0.0), (1950, 0.005278972991031496), (1951, 0.0), (1952, 0.007994102211544007), (1953, 0.01419849353636951), (1954, 0.026374665222273226), (1955, 0.012017362014967618), (1956, 0.05367342811590472), (1957, 0.01409950487182644), (1958, 0.013378359604005945), (1959, 0.11861641964942257), (1960, 0.0), (1961, 0.0), (1962, 0.007893424013814375), (1963, 0.0), (1964, 0.026782587008002682), (1965, 0.0), (1966, 0.008260295697041821), (1967, 0.006972872105308882), (1968, 0.0), (1969, 0.005186475825048354), (1970, 0.009860715778139495), (1971, 0.007155397501492309), (1972, 0.0), (1973, 0.017025671862602326), (1974, 0.013800272918161605), (1975, 0.017717208987921725), (1976, 0.04761666389821886), (1977, 0.028897788755559935), (1978, 0.011999575056241153), (1979, 0.0), (1980, 0.0), (1981, 0.004314285377429972), (1982, 0.008724365708387768), (1983, 0.018028052059925977), (1984, 0.06514191233642702), (1985, 0.0), (1986, 0.016004307988271342), (1987, 0.02068881528554716), (1988, 0.0), (1989, 0.022924493564365878), (1990, 0.047022497777874615), (1991, 0.01426311246345095), (1992, 0.03215043234635295), (1993, 0.02315267737960138), (1994, 0.0), (1995, 0.02983623385825897), (1996, 0.04301902504305315), (1997, 0.01892465643553193), (1998, 0.0), (1999, 0.04166134872521054), (2000, 0.0), (2001, 0.030957067553310916), (2002, 0.005992939660555448), (2003, 0.007409675623349183), (2004, 0.007524822055213794), (2005, 0.0), (2006, 0.0), (2007, 0.016446461400277744), (2008, 0.012565208953085192), (2009, 0.0), (2010, 0.0), (2011, 0.0), (2012, 0.0), (2013, 0.01893316513777405), (2014, 0.013564814536003118), (2015, 0.03310955132800403), (2016, 0.015489184518705578), (2017, 0.010632916894691561), (2018, 0.005281278755254164), (2019, 0.009797731040466046), (2020, 0.0), (2021, 0.004138451118414431), (2022, 0.007307439095759207), (2023, 0.02042368666988354), (2024, 0.04965270162247436), (2025, 0.004225794736890141), (2026, 0.009602897387565826), (2027, 0.025504897535320738), (2028, 0.01935940449926692), (2029, 0.019347631971023113), (2030, 0.0), (2031, 0.00894762367065155), (2032, 0.016370049250871786), (2033, 0.007720003077102669), (2034, 0.010731489746813925), (2035, 0.03734179027187684), (2036, 0.011409961537527324), (2037, 0.005266504370536066), (2038, 0.00831720476644452), (2039, 0.0), (2040, 0.0045687920546630244), (2041, 0.0330709529606711), (2042, 0.007568873846733649), (2043, 0.014640283742720563), (2044, 0.014135125656051758), (2045, 0.0), (2046, 0.04688633831576028), (2047, 0.0401368415486398), (2048, 0.00467447367217547), (2049, 0.009371565551249683), (2050, 0.01318908305448721), (2051, 0.0), (2052, 0.016769385141861347), (2053, 0.013642488403404035), (2054, 0.009652191459496844), (2055, 0.016700592168414973), (2056, 0.010713254924432727), (2057, 0.010924434552959158), (2058, 0.0), (2059, 0.0), (2060, 0.01930383674502448), (2061, 0.030359887568233768), (2062, 0.0040773936330879244), (2063, 0.0), (2064, 0.006242188468719692), (2065, 0.0), (2066, 0.0323338821918647), (2067, 0.0), (2068, 0.007424929307697802), (2069, 0.027562045465563307), (2070, 0.005643855502389114), (2071, 0.005293459584140042), (2072, 0.03915670712822743), (2073, 0.0), (2074, 0.01299336590070842), (2075, 0.005593806965381988), (2076, 0.03781073857579728), (2077, 0.0), (2078, 0.004425664642558875), (2079, 0.0), (2080, 0.009500116426169056), (2081, 0.022619516793446003), (2082, 0.0), (2083, 0.0), (2084, 0.0251186891118593), (2085, 0.06787751072099563), (2086, 0.019461442739277843), (2087, 0.035265487499255045), (2088, 0.01098114294654038), (2089, 0.015360642383737428), (2090, 0.0), (2091, 0.01574321489047028), (2092, 0.0937508146045396), (2093, 0.0059918339052395814), (2094, 0.013824854342938259), (2095, 0.005968769710849431), (2096, 0.008224436721338317), (2097, 0.006331724132721041), (2098, 0.009972025299601048), (2099, 0.01931948284773301), (2100, 0.059982520757783916), (2101, 0.03570392938092493), (2102, 0.004582503349622772), (2103, 0.006828318145182773), (2104, 0.01335830438261337), (2105, 0.004377489104655782), (2106, 0.0), (2107, 0.0), (2108, 0.011531213086886873), (2109, 0.0), (2110, 0.042083059789668156), (2111, 0.06959403502042172), (2112, 0.0), (2113, 0.0), (2114, 0.026273641453484757), (2115, 0.035701790633534874), (2116, 0.0121130232599434), (2117, 0.009731395525590622), (2118, 0.0), (2119, 0.0), (2120, 0.026396812205216523), (2121, 0.007500754071191574), (2122, 0.014806731287405195), (2123, 0.009632592528172678), (2124, 0.007896174924340825), (2125, 0.0), (2126, 0.013981369782352157), (2127, 0.036942355697083935), (2128, 0.02089929306152561), (2129, 0.032210058187245566), (2130, 0.007931133159654801), (2131, 0.003825504116568262), (2132, 0.0), (2133, 0.008844420414593802), (2134, 0.018460401305066154), (2135, 0.0), (2136, 0.016167684921398796), (2137, 0.0), (2138, 0.016578436243788682), (2139, 0.0), (2140, 0.009725656470820918), (2141, 0.0), (2142, 0.014406669953517085), (2143, 0.0), (2144, 0.0), (2145, 0.019245309054696277), (2146, 0.0), (2147, 0.0), (2148, 0.0), (2149, 0.00913605175706056), (2150, 0.010332209053576095), (2151, 0.00909826835120442), (2152, 0.04364879694866078), (2153, 0.010316810864512652), (2154, 0.01528242805419051), (2155, 0.04321165927448001), (2156, 0.030572598288185347), (2157, 0.03835995827323578), (2158, 0.009755882434386366), (2159, 0.010652064435588141), (2160, 0.02186443440722441), (2161, 0.011778905581560027), (2162, 0.00802399866354912), (2163, 0.06634997434271345), (2164, 0.016196721362554338), (2165, 0.00521691107647597), (2166, 0.011485100703082552), (2167, 0.026413345797741627), (2168, 0.019741615541746808), (2169, 0.02169343459333636), (2170, 0.012130457988835499), (2171, 0.030065042655380462), (2172, 0.0), (2173, 0.0), (2174, 0.04748885745502365), (2175, 0.089009782460951), (2176, 0.0), (2177, 0.004789957326850969), (2178, 0.019719862059650043), (2179, 0.0), (2180, 0.0), (2181, 0.012321390229745476), (2182, 0.004930952360348283), (2183, 0.02406659707856644), (2184, 0.019597683419969245), (2185, 0.01116323574865435), (2186, 0.0), (2187, 0.0073477539777133324), (2188, 0.006861581623980929), (2189, 0.010713575222809454), (2190, 0.0), (2191, 0.046929190756618916), (2192, 0.0), (2193, 0.019113376533628747), (2194, 0.0051938522344634865), (2195, 0.033013401231601104), (2196, 0.028721900218245146), (2197, 0.004752575581090575), (2198, 0.026964286992154255), (2199, 0.017858498822300894), (2200, 0.012693823872951633), (2201, 0.006747343656410051), (2202, 0.004868681587178412), (2203, 0.03365494415969494), (2204, 0.0), (2205, 0.025844012177126056), (2206, 0.010528831795729525), (2207, 0.014848724965687114), (2208, 0.01406088353826133), (2209, 0.016464867112195893), (2210, 0.05022476163773186), (2211, 0.03948829916931809), (2212, 0.016506409115753073), (2213, 0.0), (2214, 0.004821629771123749), (2215, 0.018434234791287394), (2216, 0.03374527681380906), (2217, 0.0), (2218, 0.015125287008546652), (2219, 0.0), (2220, 0.00459227987603696), (2221, 0.019188365175980087), (2222, 0.02259896730531814), (2223, 0.04661510679451676), (2224, 0.0), (2225, 0.016696513828456064), (2226, 0.0), (2227, 0.0227545690026001), (2228, 0.02115978099288682), (2229, 0.09417101913565294), (2230, 0.008799364233815207), (2231, 0.005218124742922478), (2232, 0.0), (2233, 0.05385018617591886), (2234, 0.014779446535639328), (2235, 0.038367677590223796), (2236, 0.0), (2237, 0.03682146378613711), (2238, 0.004328771243027283), (2239, 0.010998959818919945), (2240, 0.026174970460740514), (2241, 0.0), (2242, 0.0045294840519171245), (2243, 0.016433819726204262), (2244, 0.015705460980719933), (2245, 0.03091740793005121), (2246, 0.02216328693173878), (2247, 0.039150624391879905), (2248, 0.0), (2249, 0.009466805394858677), (2250, 0.022533248399269762), (2251, 0.0), (2252, 0.03716147407484645), (2253, 0.022692270655798458), (2254, 0.01684576680559363), (2255, 0.023540481301462326), (2256, 0.025987972981983177), (2257, 0.0), (2258, 0.032117218872501255), (2259, 0.0), (2260, 0.022168717496084532), (2261, 0.007598172571561891), (2262, 0.04163780612113332), (2263, 0.009989463892659173), (2264, 0.02553399563559162), (2265, 0.0), (2266, 0.06995625667290895), (2267, 0.0), (2268, 0.006633246380106406), (2269, 0.02748936761043693), (2270, 0.008036292289010939), (2271, 0.0), (2272, 0.0), (2273, 0.0), (2274, 0.0), (2275, 0.03648765930864886), (2276, 0.008302025918702279), (2277, 0.013684258559217743), (2278, 0.006428027306178691), (2279, 0.0), (2280, 0.008770448301474498), (2281, 0.017457630226471964), (2282, 0.007545639537766352), (2283, 0.0038701643858475676), (2284, 0.0), (2285, 0.04771249005476085), (2286, 0.0), (2287, 0.0), (2288, 0.00549997038053837), (2289, 0.00496285881070063), (2290, 0.005244734472108204), (2291, 0.02504604980597237), (2292, 0.049462729952824795), (2293, 0.005695116833040136), (2294, 0.019516083666280614), (2295, 0.014238022675890923), (2296, 0.014835017018376959), (2297, 0.015347940215809392), (2298, 0.007765917200182701), (2299, 0.0), (2300, 0.019208572446693727), (2301, 0.0), (2302, 0.03595058706605227), (2303, 0.017369122792296406), (2304, 0.006839349688044052), (2305, 0.004490619852315717), (2306, 0.004275764554659531), (2307, 0.017443349874352265), (2308, 0.009379629167565198), (2309, 0.006361415054204417), (2310, 0.04272196184904254), (2311, 0.06439610018072409), (2312, 0.0), (2313, 0.021378888592009655), (2314, 0.01918472240321748), (2315, 0.03303553022432468), (2316, 0.0), (2317, 0.03588170336416025), (2318, 0.008603607080194886), (2319, 0.0), (2320, 0.036996003740443914), (2321, 0.005858198157156576), (2322, 0.005420174190654013), (2323, 0.017653144271990585), (2324, 0.06966033442149074), (2325, 0.0), (2326, 0.005423599387784968), (2327, 0.04652184168540735), (2328, 0.010062028695157951), (2329, 0.008537369415662703), (2330, 0.015995080332350912), (2331, 0.018695435820579864), (2332, 0.0), (2333, 0.03237445781061388), (2334, 0.004327659859822995), (2335, 0.004227172761815085), (2336, 0.016971416776059532), (2337, 0.0), (2338, 0.02350490735691653), (2339, 0.004174933050188345), (2340, 0.027817613576767142), (2341, 0.03494280208381084), (2342, 0.028783266312010395), (2343, 0.051854951508624104), (2344, 0.0), (2345, 0.010606275693458981), (2346, 0.03675729469048487), (2347, 0.0), (2348, 0.018050765019820045), (2349, 0.02035355315080103), (2350, 0.0), (2351, 0.0), (2352, 0.014686591036844093), (2353, 0.0), (2354, 0.0519385364539308), (2355, 0.0), (2356, 0.0), (2357, 0.0696734548209944), (2358, 0.0), (2359, 0.0), (2360, 0.01700386806938169), (2361, 0.004709575691168758), (2362, 0.0), (2363, 0.01622221353908237), (2364, 0.004823299051646681), (2365, 0.0), (2366, 0.01903205514777053), (2367, 0.023403713955409664), (2368, 0.004514591221049569), (2369, 0.0), (2370, 0.0), (2371, 0.022352456852753107), (2372, 0.031062479426281302), (2373, 0.0165298386771304), (2374, 0.0), (2375, 0.030187789155045427), (2376, 0.004278771545591817), (2377, 0.014489486039020628), (2378, 0.007665099347717266), (2379, 0.0), (2380, 0.03463129238195102), (2381, 0.02698495132206611), (2382, 0.0), (2383, 0.0), (2384, 0.040514576139440865), (2385, 0.0), (2386, 0.039118038847096664), (2387, 0.0391301707327506), (2388, 0.031312186635872194), (2389, 0.024181215816112288), (2390, 0.04044782269177937), (2391, 0.04528434581437127), (2392, 0.020446554820144496), (2393, 0.008839204578810381), (2394, 0.01134743077061129), (2395, 0.01859940959629837), (2396, 0.0), (2397, 0.01719111268609755), (2398, 0.013523513662019655), (2399, 0.012309436246312542), (2400, 0.010502197112443424), (2401, 0.0), (2402, 0.051754657158696954), (2403, 0.027378365293697374), (2404, 0.004220177134022444), (2405, 0.013960937550886352), (2406, 0.0), (2407, 0.0), (2408, 0.00439093028615502), (2409, 0.004938999099431141), (2410, 0.023592706640682), (2411, 0.02090599808846341), (2412, 0.014270700737145852), (2413, 0.01177780008047804), (2414, 0.0), (2415, 0.0), (2416, 0.012094186907149635), (2417, 0.008630416401740766), (2418, 0.0), (2419, 0.017128588092857316), (2420, 0.004851286839719965), (2421, 0.0), (2422, 0.0), (2423, 0.012002516662330969), (2424, 0.007944996278881847), (2425, 0.025062798048395604), (2426, 0.005006129179545114), (2427, 0.015423207782617541), (2428, 0.024338856148926554), (2429, 0.008484435859681996), (2430, 0.014916094645080834), (2431, 0.041809890978901164), (2432, 0.0), (2433, 0.3864273245926594), (2434, 0.0), (2435, 0.016449491981335225), (2436, 0.0), (2437, 0.04405700417636248), (2438, 0.011958612338927397), (2439, 0.012712406021208536), (2440, 0.007258444706352852), (2441, 0.004405358790413339), (2442, 0.05155004906784726), (2443, 0.013420193920487556), (2444, 0.035619406961373286), (2445, 0.05343939720710646), (2446, 0.017968544138060732), (2447, 0.0), (2448, 0.008878146607295677), (2449, 0.0), (2450, 0.0), (2451, 0.0), (2452, 0.017596568075630512), (2453, 0.0), (2454, 0.009327395304283838), (2455, 0.0206054591396409), (2456, 0.0076964078073464524), (2457, 0.011946628536667838), (2458, 0.0), (2459, 0.0), (2460, 0.0), (2461, 0.007467335962783107), (2462, 0.009340228809380203), (2463, 0.004286799343547974), (2464, 0.017751051610132344), (2465, 0.037924990568176595), (2466, 0.011440520720808435), (2467, 0.008210754064328734), (2468, 0.00938718786807741), (2469, 0.00635604050335841), (2470, 0.04373482269752974), (2471, 0.014039348234952783), (2472, 0.0), (2473, 0.02336038334761669), (2474, 0.01952792202479125), (2475, 0.0), (2476, 0.0), (2477, 0.0), (2478, 0.011751191671769688), (2479, 0.016570458714046433), (2480, 0.004836158121871219), (2481, 0.0), (2482, 0.05460456459235743), (2483, 0.02026248422859571), (2484, 0.03872243126358445), (2485, 0.0), (2486, 0.022945376066741338), (2487, 0.0), (2488, 0.004539269806816723), (2489, 0.0045367274167616685), (2490, 0.06186144888195947), (2491, 0.0), (2492, 0.1253438322333649), (2493, 0.0), (2494, 0.0), (2495, 0.008718947489644802), (2496, 0.02485506080200191), (2497, 0.0), (2498, 0.03290413358287842), (2499, 0.011077929176129545), (2500, 0.01849503673557459), (2501, 0.015180271716782427), (2502, 0.008595479522969109), (2503, 0.0), (2504, 0.0), (2505, 0.020681886125235742), (2506, 0.036660308761605774), (2507, 0.04594025737651513), (2508, 0.010057892133881056), (2509, 0.020872819640753163), (2510, 0.020900295415410983), (2511, 0.004830378566586034), (2512, 0.0), (2513, 0.023036193599895227), (2514, 0.048536431663298366), (2515, 0.010405537811523745), (2516, 0.0), (2517, 0.0), (2518, 0.015941133784172154), (2519, 0.0), (2520, 0.0), (2521, 0.011095445702899522), (2522, 0.0423490968605829), (2523, 0.0), (2524, 0.006146965585456949), (2525, 0.00448666847633391), (2526, 0.0), (2527, 0.0061196009770820405), (2528, 0.0), (2529, 0.0), (2530, 0.011304167376179024), (2531, 0.0), (2532, 0.011644574052215593), (2533, 0.0), (2534, 0.01468475652970286), (2535, 0.0045890467721558924), (2536, 0.022365358086309715), (2537, 0.0), (2538, 0.012912463668909798), (2539, 0.010758041039762124), (2540, 0.021351956268063813), (2541, 0.020533552181201894), (2542, 0.013617837394239263), (2543, 0.020646849812253024), (2544, 0.0171606520619204), (2545, 0.007219225439209008), (2546, 0.05622698569895075), (2547, 0.013815194685220187), (2548, 0.01043490002441111), (2549, 0.00414749961544784), (2550, 0.025257099293728984), (2551, 0.0), (2552, 0.007768521768333489), (2553, 0.02532176273763052), (2554, 0.0), (2555, 0.0), (2556, 0.0319344515968073), (2557, 0.004249646692372688), (2558, 0.013206368141481562), (2559, 0.0), (2560, 0.05278222016641439), (2561, 0.02202964821120572), (2562, 0.018869637890335317), (2563, 0.01854410898006814), (2564, 0.005202136789729116), (2565, 0.023215118468664225), (2566, 0.0), (2567, 0.0), (2568, 0.015922378337433415), (2569, 0.008479858871349536), (2570, 0.0), (2571, 0.08395694908220987), (2572, 0.012841282081782469), (2573, 0.04029474006807327), (2574, 0.0), (2575, 0.0), (2576, 0.0), (2577, 0.059808207138078454), (2578, 0.017658961759676826), (2579, 0.021433812083080154), (2580, 0.01834588900950259), (2581, 0.039887487736000704), (2582, 0.02559656692983385), (2583, 0.01971989819241225), (2584, 0.00896989280336729), (2585, 0.05167068833429246), (2586, 0.02524438169370285), (2587, 0.020047084692040286), (2588, 0.0), (2589, 0.015753834890595297), (2590, 0.025124596452504595), (2591, 0.005969006546377738), (2592, 0.06875061376771467), (2593, 0.007851406703610337), (2594, 0.0), (2595, 0.0), (2596, 0.011034111059476763), (2597, 0.019475243131157807), (2598, 0.011741451305265709), (2599, 0.0), (2600, 0.0), (2601, 0.0), (2602, 0.028922283515199272), (2603, 0.015135758568089864), (2604, 0.0), (2605, 0.019456259774455646), (2606, 0.0), (2607, 0.007956830348120432), (2608, 0.0), (2609, 0.01726988408595665), (2610, 0.0), (2611, 0.004956220660870859), (2612, 0.04498592687817021), (2613, 0.0), (2614, 0.019604131119719415), (2615, 0.004436218078199737), (2616, 0.006710780964593491), (2617, 0.0), (2618, 0.0), (2619, 0.0), (2620, 0.0), (2621, 0.0), (2622, 0.01185410741985933), (2623, 0.01319146266125163), (2624, 0.0), (2625, 0.018687176708396414), (2626, 0.01959085951581847), (2627, 0.0), (2628, 0.01354906678258019), (2629, 0.0), (2630, 0.018930268815559724), (2631, 0.0), (2632, 0.03771327915043905), (2633, 0.021626307625429657), (2634, 0.0), (2635, 0.013323770814733373), (2636, 0.01877387514635619), (2637, 0.0), (2638, 0.05963165281868908), (2639, 0.02567091692301931), (2640, 0.02793387282607729), (2641, 0.004894894869593501), (2642, 0.008412335923069433), (2643, 0.0), (2644, 0.013110589474054316), (2645, 0.028234639097602047), (2646, 0.032149049700171684), (2647, 0.04587727243456199), (2648, 0.0), (2649, 0.009607946589419792), (2650, 0.022585982243464916), (2651, 0.010699066056762763), (2652, 0.012796084783384355), (2653, 0.016165982257936605), (2654, 0.017112488845797344), (2655, 0.06590398214431416), (2656, 0.0), (2657, 0.03394113207082596), (2658, 0.0), (2659, 0.01356286662945816), (2660, 0.004000459167880119), (2661, 0.0), (2662, 0.0), (2663, 0.0), (2664, 0.0882405950247471), (2665, 0.0), (2666, 0.0), (2667, 0.027325551454922756), (2668, 0.014988111076961363), (2669, 0.024581959993805597), (2670, 0.00956164586324233), (2671, 0.0), (2672, 0.0), (2673, 0.0), (2674, 0.0), (2675, 0.03626060237025578), (2676, 0.019204837700692076), (2677, 0.01674273169406203), (2678, 0.012539062306957493), (2679, 0.0), (2680, 0.0), (2681, 0.0114382421076211), (2682, 0.0), (2683, 0.030067918943882537), (2684, 0.0), (2685, 0.028532386995843744), (2686, 0.0), (2687, 0.0), (2688, 0.007503278412515145), (2689, 0.0), (2690, 0.0), (2691, 0.016611886837736387), (2692, 0.01637650343629019), (2693, 0.0), (2694, 0.0), (2695, 0.033033429090319526), (2696, 0.01904301892028744), (2697, 0.0), (2698, 0.0), (2699, 0.015442754437596493), (2700, 0.009073041038066146), (2701, 0.0), (2702, 0.03603101697555339), (2703, 0.00807129651629464), (2704, 0.008491418167145224), (2705, 0.0), (2706, 0.015917363248159185), (2707, 0.0), (2708, 0.047787192179077335), (2709, 0.0), (2710, 0.0), (2711, 0.0), (2712, 0.005589515337728041), (2713, 0.0), (2714, 0.0), (2715, 0.0044031328034986), (2716, 0.010449675320131965), (2717, 0.0), (2718, 0.0), (2719, 0.004722362635252129), (2720, 0.004723594851563592), (2721, 0.0), (2722, 0.028202299319363418), (2723, 0.0), (2724, 0.0), (2725, 0.0), (2726, 0.01993934746966635), (2727, 0.00793042981380693), (2728, 0.007280193442822852), (2729, 0.009813882540239762), (2730, 0.02540656462861071), (2731, 0.007485867277415984), (2732, 0.014391609961445501), (2733, 0.0), (2734, 0.004621595350120089), (2735, 0.04182488229501122), (2736, 0.04393515174211673), (2737, 0.0), (2738, 0.019106719400838967), (2739, 0.004119540678837631), (2740, 0.0), (2741, 0.040918341333792435), (2742, 0.007379515284896338), (2743, 0.016865022984261745), (2744, 0.0), (2745, 0.02815081519936259), (2746, 0.0315851261170895), (2747, 0.011182397124099474), (2748, 0.0), (2749, 0.0), (2750, 0.006980701099655093), (2751, 0.01751695786250902), (2752, 0.02338282444789403), (2753, 0.04073290068637741), (2754, 0.0), (2755, 0.05905164017148699), (2756, 0.004098951555175824), (2757, 0.03151921043487679), (2758, 0.025334757286910085), (2759, 0.013831592537739528), (2760, 0.0), (2761, 0.0), (2762, 0.007527000124119074), (2763, 0.033522446258094384), (2764, 0.0), (2765, 0.03810385334304971), (2766, 0.01447033939881119), (2767, 0.008486933792244048), (2768, 0.0), (2769, 0.0), (2770, 0.0), (2771, 0.0), (2772, 0.0), (2773, 0.0343263793890547), (2774, 0.02293849398384272), (2775, 0.030373763237321272), (2776, 0.0), (2777, 0.017779727551342068), (2778, 0.0156550360907872), (2779, 0.0), (2780, 0.003944780764444699), (2781, 0.024149377305332953), (2782, 0.020960300354913627), (2783, 0.007359376844569545), (2784, 0.007328209356757956), (2785, 0.02078754653135283), (2786, 0.021834763777691727), (2787, 0.027557098720575057), (2788, 0.0), (2789, 0.005272060642724863), (2790, 0.013013775164777103), (2791, 0.024095961841805433), (2792, 0.00827640627426994), (2793, 0.18272642077822948), (2794, 0.009064667814135553), (2795, 0.004098741803555381), (2796, 0.014904051258916664), (2797, 0.009049849718775926), (2798, 0.012848795745607372), (2799, 0.018445480862163403), (2800, 0.019816694915353657), (2801, 0.02549267328098054), (2802, 0.0), (2803, 0.004928788263566947), (2804, 0.008410480603820693), (2805, 0.014344075427207321), (2806, 0.010323136245058052), (2807, 0.004505659469038954), (2808, 0.028786340791633065), (2809, 0.02921541075880405), (2810, 0.0), (2811, 0.0), (2812, 0.017810962147278574), (2813, 0.005098747012338537), (2814, 0.005039123517925107), (2815, 0.042144180210915004), (2816, 0.008739310460716026), (2817, 0.01951454769588349), (2818, 0.007315529811918959), (2819, 0.008764660972725647), (2820, 0.007978660717386125), (2821, 0.016166052412341033), (2822, 0.010880108136102727), (2823, 0.01336019577928434), (2824, 0.03312144828989495), (2825, 0.0), (2826, 0.0556804635152004), (2827, 0.013185443992249522), (2828, 0.0080129361847041), (2829, 0.02078594169392649), (2830, 0.008426856430386376), (2831, 0.024542645083013577), (2832, 0.05062606111773718), (2833, 0.03508887609080118), (2834, 0.0155882731406521), (2835, 0.012047564439181374), (2836, 0.0), (2837, 0.03006229980502728), (2838, 0.0), (2839, 0.011842987347414749), (2840, 0.0), (2841, 0.0371465836668437), (2842, 0.0), (2843, 0.02858974016991818), (2844, 0.0), (2845, 0.018329380725030296), (2846, 0.011359189339489003), (2847, 0.0), (2848, 0.018948080503596615), (2849, 0.02012722242637515), (2850, 0.0), (2851, 0.05571007833289851), (2852, 0.0), (2853, 0.011585833952556801), (2854, 0.0), (2855, 0.01860428137241602), (2856, 0.0), (2857, 0.0), (2858, 0.025716768759794506), (2859, 0.010319634076944247), (2860, 0.01923887292285363), (2861, 0.0), (2862, 0.0371760905669663), (2863, 0.012754183705055936), (2864, 0.02126047090403895), (2865, 0.022098052073543636), (2866, 0.0), (2867, 0.007680296366651067), (2868, 0.05220525747231048), (2869, 0.050629248490433584), (2870, 0.0), (2871, 0.0), (2872, 0.005199491483864371), (2873, 0.0), (2874, 0.011244649559557661), (2875, 0.0), (2876, 0.0), (2877, 0.014989745273374712), (2878, 0.06264290955196812), (2879, 0.022102430215941608), (2880, 0.0), (2881, 0.0), (2882, 0.0), (2883, 0.0), (2884, 0.0376380337381123), (2885, 0.009492785408391645), (2886, 0.007074097197669798), (2887, 0.048621872739422124), (2888, 0.015185788107773698), (2889, 0.0), (2890, 0.0), (2891, 0.031207795462316924), (2892, 0.023022146977265425), (2893, 0.0), (2894, 0.06073970816390531), (2895, 0.0), (2896, 0.0), (2897, 0.03204662746318958), (2898, 0.0), (2899, 0.016217895215382656), (2900, 0.019143249102803135), (2901, 0.03592248847645556), (2902, 0.020807358417911287), (2903, 0.021846225317466533), (2904, 0.0048132860502463955), (2905, 0.007152917739798235), (2906, 0.009311800645435098), (2907, 0.0), (2908, 0.0), (2909, 0.02261004473604606), (2910, 0.0), (2911, 0.008452890207522235), (2912, 0.0291969341352715), (2913, 0.0), (2914, 0.02309938687993444), (2915, 0.03677029433630912), (2916, 0.0), (2917, 0.0), (2918, 0.005642201984024796), (2919, 0.004798837535372146), (2920, 0.0), (2921, 0.041322217794808706), (2922, 0.0), (2923, 0.018463538900026735), (2924, 0.0), (2925, 0.0), (2926, 0.0), (2927, 0.004385241335019035), (2928, 0.005259855851680294), (2929, 0.014684944598302524), (2930, 0.0076026721296371105), (2931, 0.022850232770015456), (2932, 0.008192001691467325), (2933, 0.007852707327159881), (2934, 0.017798490197642756), (2935, 0.0), (2936, 0.0), (2937, 0.0), (2938, 0.0), (2939, 0.0), (2940, 0.024659384545464673), (2941, 0.008596973556494716), (2942, 0.0), (2943, 0.0), (2944, 0.025861221963057), (2945, 0.0), (2946, 0.027392234271737908), (2947, 0.03691342305311408), (2948, 0.025419501604122853), (2949, 0.0), (2950, 0.004342592892367902), (2951, 0.0), (2952, 0.0), (2953, 0.020049744059285727), (2954, 0.012111892558104536), (2955, 0.0), (2956, 0.0), (2957, 0.008985066467425938), (2958, 0.04883878553795422), (2959, 0.018148901640566605), (2960, 0.02557310774884463), (2961, 0.012370405348455167), (2962, 0.0), (2963, 0.0), (2964, 0.04780862595814255), (2965, 0.00892348754401226), (2966, 0.04987901485589545), (2967, 0.03342679453905578), (2968, 0.0), (2969, 0.007523690930658782), (2970, 0.0), (2971, 0.003920001369986463), (2972, 0.029410577576918354), (2973, 0.005359600068607276), (2974, 0.0), (2975, 0.04680503253975645), (2976, 0.019691563715917616), (2977, 0.015910044578909308), (2978, 0.04459505586800301), (2979, 0.004571588994662593), (2980, 0.0063200964095982285), (2981, 0.0), (2982, 0.020949354673307063), (2983, 0.012436487203532864), (2984, 0.0), (2985, 0.008119019095805247), (2986, 0.04957347152325701), (2987, 0.04169923151506317), (2988, 0.0), (2989, 0.01765354634668216), (2990, 0.01131629962244378), (2991, 0.043058304191692896), (2992, 0.0), (2993, 0.00893392233539932), (2994, 0.06516821669321528), (2995, 0.049794019042128636), (2996, 0.012724998607111406), (2997, 0.0), (2998, 0.0), (2999, 0.009954353460062257), (3000, 0.01039320048610524), (3001, 0.030455592056276983), (3002, 0.025643498390273897), (3003, 0.0), (3004, 0.03757591066962389), (3005, 0.0), (3006, 0.03007579978111242), (3007, 0.004515371521279472), (3008, 0.01784333817742027), (3009, 0.0), (3010, 0.007392157108860177), (3011, 0.008919247643578567), (3012, 0.00973988344090504), (3013, 0.017538375372264076), (3014, 0.045367085147672424), (3015, 0.0), (3016, 0.00475859568963911), (3017, 0.008904440245429331), (3018, 0.020109498801273898), (3019, 0.00877622224221615), (3020, 0.0056815830196805285), (3021, 0.023992647347497405), (3022, 0.0), (3023, 0.0), (3024, 0.06808955420785864), (3025, 0.020653902029403176), (3026, 0.0), (3027, 0.016698267270757843), (3028, 0.0), (3029, 0.005258172106568496), (3030, 0.009714364907096183), (3031, 0.04112964999320932), (3032, 0.014791361242945923), (3033, 0.04527233085450138), (3034, 0.0), (3035, 0.019131084247953855), (3036, 0.0), (3037, 0.0), (3038, 0.0), (3039, 0.0), (3040, 0.02976104798462746), (3041, 0.0), (3042, 0.0), (3043, 0.00957926727144192), (3044, 0.0), (3045, 0.007838489576390066), (3046, 0.015869376943426352), (3047, 0.0), (3048, 0.008346026221564775), (3049, 0.008716381066391351), (3050, 0.07959759403687472), (3051, 0.020570020563339626), (3052, 0.007880220333233937), (3053, 0.008050005082338883), (3054, 0.0), (3055, 0.051773559505049034), (3056, 0.009146607904768254), (3057, 0.0), (3058, 0.0200336959023127), (3059, 0.0), (3060, 0.0), (3061, 0.015892538162178817), (3062, 0.013665118407238101), (3063, 0.00842081830127787), (3064, 0.0), (3065, 0.03984160043173452), (3066, 0.010319485778850942), (3067, 0.0), (3068, 0.006871265841396886), (3069, 0.020401884653874217), (3070, 0.003896940932050089), (3071, 0.0), (3072, 0.021305213737491165), (3073, 0.016832580386715187), (3074, 0.012820180271540395), (3075, 0.03999933217261551), (3076, 0.004361667000123778), (3077, 0.005775578292383709), (3078, 0.0), (3079, 0.0), (3080, 0.0), (3081, 0.0), (3082, 0.006905839903877248), (3083, 0.0), (3084, 0.0), (3085, 0.0043651095800809146), (3086, 0.009545390394562502), (3087, 0.04755766874152474), (3088, 0.008230273257872898), (3089, 0.027035555699612072), (3090, 0.008013877611815823), (3091, 0.0065954486243224985), (3092, 0.004678432569295465), (3093, 0.024148584689296346), (3094, 0.009928219331329306), (3095, 0.03520774845755864), (3096, 0.021929154584759285), (3097, 0.0), (3098, 0.01387141198039768), (3099, 0.018857935973221922), (3100, 0.0), (3101, 0.008902912714182335), (3102, 0.0), (3103, 0.0), (3104, 0.0), (3105, 0.0), (3106, 0.013151517070906223), (3107, 0.0), (3108, 0.025025409067529487), (3109, 0.0), (3110, 0.0), (3111, 0.010565662868761521), (3112, 0.0261706689451671), (3113, 0.0), (3114, 0.02218475896857754), (3115, 0.0), (3116, 0.0), (3117, 0.0), (3118, 0.0), (3119, 0.0), (3120, 0.0042472356039507135), (3121, 0.0), (3122, 0.0), (3123, 0.007476557138519986), (3124, 0.008214031888411395), (3125, 0.0), (3126, 0.012083861191896477), (3127, 0.010084522665453195), (3128, 0.00638640825557901), (3129, 0.00847072128685743), (3130, 0.0), (3131, 0.0), (3132, 0.03569105449688178), (3133, 0.020691476108129235), (3134, 0.0), (3135, 0.0), (3136, 0.01177185769409973), (3137, 0.0), (3138, 0.009253824513736263), (3139, 0.0), (3140, 0.012669547002502904), (3141, 0.009637074660256028), (3142, 0.005932093419581113), (3143, 0.0222825093045787), (3144, 0.015279162522587581), (3145, 0.0), (3146, 0.0), (3147, 0.02352838807256237), (3148, 0.02783403632627411), (3149, 0.0), (3150, 0.03649799961665777), (3151, 0.0053590686204880765), (3152, 0.03123909020372507), (3153, 0.005934840044141521), (3154, 0.006473592659649885), (3155, 0.016568781423861145), (3156, 0.0), (3157, 0.0), (3158, 0.0486487501277178), (3159, 0.0), (3160, 0.0), (3161, 0.0), (3162, 0.0393336934181557), (3163, 0.021723798133526637), (3164, 0.0), (3165, 0.019265915274144774), (3166, 0.0), (3167, 0.0), (3168, 0.0), (3169, 0.007244484802178998), (3170, 0.015529666239792508), (3171, 0.007106577421256281), (3172, 0.030608809783771104), (3173, 0.013032458544051884), (3174, 0.0), (3175, 0.0036971713889987503), (3176, 0.004762048912779632), (3177, 0.03420722653924452), (3178, 0.0), (3179, 0.003894972455584775), (3180, 0.03635034788241693), (3181, 0.0), (3182, 0.015424728637630905), (3183, 0.0), (3184, 0.04169010297501389), (3185, 0.022454099712926053), (3186, 0.010677807526294637), (3187, 0.0), (3188, 0.0), (3189, 0.0), (3190, 0.0), (3191, 0.0), (3192, 0.048898962323880565), (3193, 0.0), (3194, 0.0), (3195, 0.004438455245460373), (3196, 0.0), (3197, 0.0218942246953307), (3198, 0.0), (3199, 0.009577208438170049), (3200, 0.0), (3201, 0.0), (3202, 0.04078249954121828), (3203, 0.03130020745792762), (3204, 0.019970003185067597), (3205, 0.01507615516524077), (3206, 0.0), (3207, 0.008283656808337935), (3208, 0.0476662510281357), (3209, 0.004997122850361416), (3210, 0.0), (3211, 0.05224011610723642), (3212, 0.0), (3213, 0.0), (3214, 0.028171315438159573), (3215, 0.006698535205969011), (3216, 0.0), (3217, 0.0), (3218, 0.025398898221572375), (3219, 0.0), (3220, 0.0), (3221, 0.005188080258583505), (3222, 0.0), (3223, 0.0), (3224, 0.016696399141783703), (3225, 0.014983137214682724), (3226, 0.0), (3227, 0.007602190738237354), (3228, 0.0), (3229, 0.05326971530226814), (3230, 0.022259215316713682), (3231, 0.01076280091130159), (3232, 0.026482893556294504), (3233, 0.023241422451021274), (3234, 0.012339754467304806), (3235, 0.0), (3236, 0.0743426280596583), (3237, 0.01595546152944252), (3238, 0.004570131994943055), (3239, 0.018814453486465738), (3240, 0.02888192862071634), (3241, 0.018648406089490834), (3242, 0.007095321480611737), (3243, 0.011074716001564337), (3244, 0.031231227771366332), (3245, 0.004506271197209503), (3246, 0.008247070148766491), (3247, 0.01006871896114193), (3248, 0.0), (3249, 0.03491898969513489), (3250, 0.014724635021544157), (3251, 0.010651229194897877), (3252, 0.020613049441826375), (3253, 0.008793351658795029), (3254, 0.018918078612360133), (3255, 0.03512050457861703), (3256, 0.003646716865863596), (3257, 0.0074738848930923285), (3258, 0.0), (3259, 0.01241154691912855), (3260, 0.018618408683207185), (3261, 0.0), (3262, 0.0), (3263, 0.0038896180371015728), (3264, 0.0), (3265, 0.0), (3266, 0.0), (3267, 0.004896742640905292), (3268, 0.0), (3269, 0.0), (3270, 0.004691936218699771), (3271, 0.0), (3272, 0.0), (3273, 0.021975711524555484), (3274, 0.004767891411335525), (3275, 0.00647657985921954), (3276, 0.009443365730437425), (3277, 0.003951081831039346), (3278, 0.0), (3279, 0.004785413201595941), (3280, 0.007410090088074545), (3281, 0.01483792307452424), (3282, 0.011378789417520305), (3283, 0.0), (3284, 0.006880451858234232), (3285, 0.0), (3286, 0.013209937996437535), (3287, 0.013749663337158637), (3288, 0.0), (3289, 0.01910427122103877), (3290, 0.010221724364816843), (3291, 0.007393021122269649), (3292, 0.0), (3293, 0.026793445584877333), (3294, 0.008455740760275362), (3295, 0.0), (3296, 0.05937366050680483), (3297, 0.01824101359035352), (3298, 0.0), (3299, 0.006903690007419841), (3300, 0.0), (3301, 0.004628307032718448), (3302, 0.0050108046081159124), (3303, 0.012146331481967813), (3304, 0.0075365879196533335), (3305, 0.03392843745038413), (3306, 0.015759249446621944), (3307, 0.003879716247677504), (3308, 0.0), (3309, 0.012237851821338627), (3310, 0.0), (3311, 0.0), (3312, 0.031849429226931354), (3313, 0.004354549048773565), (3314, 0.0), (3315, 0.034560366245750186), (3316, 0.014495905588196648), (3317, 0.0), (3318, 0.026227412757815892), (3319, 0.01900467836580455), (3320, 0.04142169278683109), (3321, 0.07308238360784568), (3322, 0.007986917630782967), (3323, 0.04984254193010133), (3324, 0.0), (3325, 0.018581143558745718), (3326, 0.01511467046727899), (3327, 0.0), (3328, 0.0), (3329, 0.032088772065956214), (3330, 0.009999738418589048), (3331, 0.0), (3332, 0.03466364375137074), (3333, 0.0), (3334, 0.00876380530944184), (3335, 0.011041405611338252), (3336, 0.034851100617082256), (3337, 0.1515876731444143), (3338, 0.00873559727125337), (3339, 0.0), (3340, 0.0), (3341, 0.0), (3342, 0.0), (3343, 0.013401679225597447), (3344, 0.0), (3345, 0.0), (3346, 0.0041859949229197), (3347, 0.008768058835543012), (3348, 0.008083949715078777), (3349, 0.017277657390075685), (3350, 0.09009046817140141), (3351, 0.0535179450907367), (3352, 0.031048766064591463), (3353, 0.007154241066504506), (3354, 0.0), (3355, 0.00504124323509878), (3356, 0.0), (3357, 0.007432398107457299), (3358, 0.006773583939385356), (3359, 0.05893460694609843), (3360, 0.03715441748519942), (3361, 0.03895147998633747), (3362, 0.016037994379982462), (3363, 0.0), (3364, 0.03628220561306317), (3365, 0.0), (3366, 0.0), (3367, 0.0), (3368, 0.016296364908066522), (3369, 0.0), (3370, 0.014995866350379767), (3371, 0.0), (3372, 0.0368472409989562), (3373, 0.04024421750740376), (3374, 0.0), (3375, 0.009582204867151107), (3376, 0.004897456081296525), (3377, 0.0), (3378, 0.008282015956631411), (3379, 0.0), (3380, 0.0), (3381, 0.03657616000940972), (3382, 0.00559019493458895), (3383, 0.009065831248746815), (3384, 0.0), (3385, 0.09227659719884301), (3386, 0.025173659282996738), (3387, 0.017930101893525924), (3388, 0.0), (3389, 0.0), (3390, 0.02000411972676235), (3391, 0.044564263011584435), (3392, 0.010058024218840594), (3393, 0.0), (3394, 0.0), (3395, 0.0), (3396, 0.019831564264382616), (3397, 0.010037601350649124), (3398, 0.016244652324353414), (3399, 0.011412717683103802), (3400, 0.009033758397753382), (3401, 0.008636941468513251), (3402, 0.051860974055821865), (3403, 0.04959154417206177), (3404, 0.015305135976472551), (3405, 0.062100205017893435), (3406, 0.016616479106383805), (3407, 0.0), (3408, 0.0), (3409, 0.022270996163187923), (3410, 0.0), (3411, 0.015275070442840901), (3412, 0.015242885964358258), (3413, 0.0040028080002924935), (3414, 0.00784521313107142), (3415, 0.0), (3416, 0.012427452660743816), (3417, 0.017487902772683084), (3418, 0.0034814878410446928), (3419, 0.0), (3420, 0.007296689821378985), (3421, 0.003759553937290069), (3422, 0.0), (3423, 0.0048429285936874315), (3424, 0.02633242707550642), (3425, 0.006814811305055455), (3426, 0.0), (3427, 0.043590447166336366), (3428, 0.008940164987668172), (3429, 0.011873137007228963), (3430, 0.0), (3431, 0.009201078024010684), (3432, 0.0), (3433, 0.033394391113292676), (3434, 0.028799519087286327), (3435, 0.0), (3436, 0.0047044169009386435), (3437, 0.017658858088739418), (3438, 0.0), (3439, 0.08361181029694197), (3440, 0.003731493294425224), (3441, 0.0), (3442, 0.004317766378277084), (3443, 0.0), (3444, 0.004593482057193206), (3445, 0.010393226238856117), (3446, 0.0), (3447, 0.007939006596555578), (3448, 0.011183260168519166), (3449, 0.004325685108180031), (3450, 0.03131273957109855), (3451, 0.008562541615461897), (3452, 0.0), (3453, 0.01889743479392959), (3454, 0.007602466074068807), (3455, 0.0), (3456, 0.0), (3457, 0.0), (3458, 0.004407556810603056), (3459, 0.01727610411976687), (3460, 0.0204438592231585), (3461, 0.0), (3462, 0.018700672434880883), (3463, 0.06227653294271175), (3464, 0.04316258800511814), (3465, 0.00484562146244452), (3466, 0.019785990361602543), (3467, 0.007164590100021803), (3468, 0.0), (3469, 0.0), (3470, 0.022054767297894854), (3471, 0.0), (3472, 0.0), (3473, 0.008368463963865232), (3474, 0.0), (3475, 0.0419557418678386), (3476, 0.0), (3477, 0.01587406950622418), (3478, 0.0), (3479, 0.0), (3480, 0.017321122257567947), (3481, 0.0), (3482, 0.0), (3483, 0.004235201408563007), (3484, 0.0), (3485, 0.011554904187653557), (3486, 0.011707132852678296), (3487, 0.0), (3488, 0.009693577255499757), (3489, 0.0), (3490, 0.01813509607235817), (3491, 0.0), (3492, 0.012434692708667577), (3493, 0.0), (3494, 0.04485565960639949), (3495, 0.0), (3496, 0.0), (3497, 0.0), (3498, 0.0), (3499, 0.02028288991909221), (3500, 0.03774040122587624), (3501, 0.00456385393598233), (3502, 0.0), (3503, 0.028239553996426817), (3504, 0.027488181878531946), (3505, 0.04616706823954973), (3506, 0.009063508291458477), (3507, 0.021447547127816623), (3508, 0.004377474123254849), (3509, 0.006927379905343183), (3510, 0.0), (3511, 0.017033069197795347), (3512, 0.017602407174756755), (3513, 0.020122204443204006), (3514, 0.013004243237507804), (3515, 0.008099681687031426), (3516, 0.018558350300962537), (3517, 0.02104259122611344), (3518, 0.04533209582912357), (3519, 0.0), (3520, 0.012544656341637215), (3521, 0.0), (3522, 0.014611240764858154), (3523, 0.0060319341611280415), (3524, 0.0), (3525, 0.0), (3526, 0.026763603602694634), (3527, 0.017630635641902245), (3528, 0.009248026870600707), (3529, 0.008810106757888287), (3530, 0.0), (3531, 0.0), (3532, 0.004312564411054925), (3533, 0.017571881796941875), (3534, 0.017342919547579938), (3535, 0.0), (3536, 0.0), (3537, 0.008805831242327991), (3538, 0.08812623300701096), (3539, 0.0), (3540, 0.0), (3541, 0.00844597831206538), (3542, 0.0), (3543, 0.0), (3544, 0.0), (3545, 0.005887824598483692), (3546, 0.003894081652828554), (3547, 0.0), (3548, 0.0105482605611823), (3549, 0.038089313907974265), (3550, 0.0), (3551, 0.0), (3552, 0.11081484589361365), (3553, 0.01032210587373518), (3554, 0.011240061216940886), (3555, 0.0), (3556, 0.01983051913519023), (3557, 0.0), (3558, 0.004840579440332938), (3559, 0.02282604937786906), (3560, 0.0), (3561, 0.019137243267457867), (3562, 0.009273505679682208), (3563, 0.009962856465524762), (3564, 0.04864989872481529), (3565, 0.01941596915230161), (3566, 0.004317089708749299), (3567, 0.01276422724130527), (3568, 0.04696984057825561), (3569, 0.04928573670337225), (3570, 0.01459317480741147), (3571, 0.019774687903781236), (3572, 0.0), (3573, 0.018737638464187405), (3574, 0.019370981667134156), (3575, 0.0), (3576, 0.003800153024145055), (3577, 0.0), (3578, 0.04910106618713893), (3579, 0.04644338060117969), (3580, 0.04030662616035331), (3581, 0.004356416218996562), (3582, 0.004528636696937725), (3583, 0.0), (3584, 0.009394817285502866), (3585, 0.0), (3586, 0.004363821541901893), (3587, 0.0), (3588, 0.018774291521706104), (3589, 0.020770110593772026), (3590, 0.03092726435075792), (3591, 0.02947936442292886), (3592, 0.004408291051216967), (3593, 0.0), (3594, 0.02310352370864619), (3595, 0.0), (3596, 0.0), (3597, 0.0), (3598, 0.0), (3599, 0.0249428717631898), (3600, 0.0), (3601, 0.0), (3602, 0.0), (3603, 0.023891054897179204), (3604, 0.02011925794713495), (3605, 0.0), (3606, 0.005605333771491436), (3607, 0.028460056675429134), (3608, 0.0), (3609, 0.04240756043095189), (3610, 0.0), (3611, 0.0), (3612, 0.0), (3613, 0.031449836323902906), (3614, 0.0), (3615, 0.006109318486412294), (3616, 0.07676051508309595), (3617, 0.016568367898059495), (3618, 0.0155219868378479), (3619, 0.0), (3620, 0.023849476330865094), (3621, 0.0), (3622, 0.0), (3623, 0.016000229824313077), (3624, 0.033360833097013876), (3625, 0.0036503828880312867), (3626, 0.022258074356184137), (3627, 0.004483504002110252), (3628, 0.004292618961680479), (3629, 0.0), (3630, 0.022080905383353732), (3631, 0.06270725254877432), (3632, 0.0), (3633, 0.019592703882218412), (3634, 0.03156087864073561), (3635, 0.0), (3636, 0.023404903384100468), (3637, 0.04561138129101266), (3638, 0.004909484563234558), (3639, 0.008049426831062217), (3640, 0.00803013128483862), (3641, 0.0), (3642, 0.019775688296099388), (3643, 0.007157655095492684), (3644, 0.019706184143472825), (3645, 0.003557266768968715), (3646, 0.0), (3647, 0.004225129828975422), (3648, 0.004029895715492551), (3649, 0.0), (3650, 0.032063469016042415), (3651, 0.04959605977379422), (3652, 0.04510473549411436), (3653, 0.009214955373334393), (3654, 0.0), (3655, 0.0), (3656, 0.019905951948802264), (3657, 0.008715733420267322), (3658, 0.008101010154076608), (3659, 0.012774884877998938), (3660, 0.0), (3661, 0.006109699525541037), (3662, 0.004557917762885223), (3663, 0.01605871194773451), (3664, 0.02752368613315838), (3665, 0.010213439213404644), (3666, 0.0), (3667, 0.005869696746055515), (3668, 0.03487072782159829), (3669, 0.0), (3670, 0.0), (3671, 0.011668436190500356), (3672, 0.0058408535070595255), (3673, 0.0), (3674, 0.0), (3675, 0.016461487083354025), (3676, 0.0), (3677, 0.0), (3678, 0.0), (3679, 0.02236340135117917), (3680, 0.01255609141043517), (3681, 0.0), (3682, 0.004594522147945146), (3683, 0.0045554947411364675), (3684, 0.019009618325208574), (3685, 0.011945598299138653), (3686, 0.0), (3687, 0.0), (3688, 0.0), (3689, 0.005952134231202312), (3690, 0.0), (3691, 0.0), (3692, 0.01067528034508813), (3693, 0.004506194715567897), (3694, 0.008987409115383557), (3695, 0.024240355669220694), (3696, 0.0), (3697, 0.0), (3698, 0.03663731531165564), (3699, 0.008638248400619782), (3700, 0.09342523179153349), (3701, 0.07730933578669623), (3702, 0.0), (3703, 0.0), (3704, 0.037136539711832645), (3705, 0.0), (3706, 0.05374429204106325), (3707, 0.005695852163495792), (3708, 0.0), (3709, 0.010669017045164163), (3710, 0.0), (3711, 0.0), (3712, 0.0), (3713, 0.0), (3714, 0.018553514110738592), (3715, 0.012406840085232893), (3716, 0.007789960286563308), (3717, 0.008764619221717163), (3718, 0.0), (3719, 0.009615240435327233), (3720, 0.0), (3721, 0.0), (3722, 0.0190764023151811), (3723, 0.017340289945065788), (3724, 0.014210416435386529), (3725, 0.014447411933865454), (3726, 0.013787274387061656), (3727, 0.00903527450301868), (3728, 0.0), (3729, 0.0), (3730, 0.018065217451188303), (3731, 0.0), (3732, 0.017057697738397926), (3733, 0.018366156461835547), (3734, 0.008196397014727495), (3735, 0.004164875654337214), (3736, 0.03885382910688247), (3737, 0.019535356505091285), (3738, 0.0), (3739, 0.0), (3740, 0.005621171561783332), (3741, 0.015878800189166237), (3742, 0.0), (3743, 0.044050366759618036), (3744, 0.0), (3745, 0.03678682114822783), (3746, 0.0176580262274183), (3747, 0.0), (3748, 0.022729198112252817), (3749, 0.0247851559786839), (3750, 0.04553969404209317), (3751, 0.01400829089073425), (3752, 0.005120340365193363), (3753, 0.01759269822298857), (3754, 0.056061384858849025), (3755, 0.01327045323157133), (3756, 0.02127378272357197), (3757, 0.013652168115257638), (3758, 0.005018380118751888), (3759, 0.00954483115882722), (3760, 0.009444870060631202), (3761, 0.0), (3762, 0.0922451244612677), (3763, 0.0), (3764, 0.023897458648269247), (3765, 0.012793053246707042), (3766, 0.012401532020498663), (3767, 0.004782050337007518), (3768, 0.0), (3769, 0.0046365397311007245), (3770, 0.03754109373574499), (3771, 0.004727333344005964), (3772, 0.02275366546190637), (3773, 0.0), (3774, 0.006547857423018478), (3775, 0.02832996199089966), (3776, 0.016366502148931796), (3777, 0.03821870999555462), (3778, 0.004832405761219192), (3779, 0.02503288323169791), (3780, 0.0), (3781, 0.0), (3782, 0.024775606512331134), (3783, 0.03612194383146976), (3784, 0.012092094471954742), (3785, 0.008437090026344796), (3786, 0.011277116381346845), (3787, 0.0), (3788, 0.0), (3789, 0.007821198589948637), (3790, 0.008109392391649446), (3791, 0.010037949046565464), (3792, 0.0), (3793, 0.0), (3794, 0.0), (3795, 0.032432185266859495), (3796, 0.011415003816571241), (3797, 0.0), (3798, 0.005716699913049712), (3799, 0.021935322968787578), (3800, 0.03425385724043862), (3801, 0.0), (3802, 0.009264370705155928), (3803, 0.03062925660914626), (3804, 0.01609841523567263), (3805, 0.0), (3806, 0.005389527821258324), (3807, 0.0), (3808, 0.033699958872143186), (3809, 0.0), (3810, 0.009749412877728625), (3811, 0.0), (3812, 0.020460931331454973), (3813, 0.004628798464826826), (3814, 0.0132382920675878), (3815, 0.01729415073582073), (3816, 0.006074881306868662), (3817, 0.008113968637010301), (3818, 0.0), (3819, 0.06275612549159859), (3820, 0.04017020282215855), (3821, 0.018017874567740347), (3822, 0.0), (3823, 0.011099485064814115), (3824, 0.00459752021300066), (3825, 0.0), (3826, 0.013999742843798688), (3827, 0.017534252906586317), (3828, 0.017991239346199416), (3829, 0.009059216780328666), (3830, 0.006172322826053911), (3831, 0.044626506138889674), (3832, 0.0039771067445584975), (3833, 0.01793711519677301), (3834, 0.007568327880947485), (3835, 0.0), (3836, 0.006410832084373467), (3837, 0.0041682571204313245), (3838, 0.0), (3839, 0.007687441028864923), (3840, 0.010068817663109969), (3841, 0.018656133048050236), (3842, 0.0059060265450945415), (3843, 0.0), (3844, 0.018299929212085706), (3845, 0.06218840524503646), (3846, 0.0), (3847, 0.031067705849289782), (3848, 0.00984920278093672), (3849, 0.014717445654587987), (3850, 0.026685250965624983), (3851, 0.01270291411154426), (3852, 0.0), (3853, 0.0), (3854, 0.07161762284525042), (3855, 0.0), (3856, 0.02535970746311528), (3857, 0.013398867655365758), (3858, 0.0), (3859, 0.03534403355295658), (3860, 0.008160922321766217), (3861, 0.004261735046897328), (3862, 0.0), (3863, 0.0), (3864, 0.004345787863272279), (3865, 0.034883064058088345), (3866, 0.03691119780079994), (3867, 0.004385554533260534), (3868, 0.004772642255397958), (3869, 0.008646847308528272), (3870, 0.004133047230862089), (3871, 0.0), (3872, 0.0162566191385683), (3873, 0.018476862981114228), (3874, 0.008096600989979939), (3875, 0.00992067625188867), (3876, 0.003662314739054873), (3877, 0.0), (3878, 0.007295427903746251), (3879, 0.003952568056897548), (3880, 0.006877265151220571), (3881, 0.018706121885976285), (3882, 0.006351797688913922), (3883, 0.013024961911582327), (3884, 0.04520739144169765), (3885, 0.02762083264834927), (3886, 0.010927061350924938), (3887, 0.009256854052197845), (3888, 0.006435291079104699), (3889, 0.032617565970065154), (3890, 0.010122941280527159), (3891, 0.004413056626334617), (3892, 0.0), (3893, 0.0), (3894, 0.0), (3895, 0.025521860898118393), (3896, 0.035953442708177324), (3897, 0.0), (3898, 0.01421557409712806), (3899, 0.025756695207971622), (3900, 0.0), (3901, 0.030108670199926413), (3902, 0.0), (3903, 0.014799497274378272), (3904, 0.021847755090350106), (3905, 0.012647964242075496), (3906, 0.0), (3907, 0.010756209889361653), (3908, 0.01013331638535058), (3909, 0.0), (3910, 0.0), (3911, 0.0), (3912, 0.017278366331976346), (3913, 0.011873943180854803), (3914, 0.05092307906630719), (3915, 0.0), (3916, 0.007414690304876108), (3917, 0.0), (3918, 0.013879847592562155), (3919, 0.03080956907350501), (3920, 0.04534684794759899), (3921, 0.0), (3922, 0.0), (3923, 0.0), (3924, 0.0), (3925, 0.004760195929554592), (3926, 0.0), (3927, 0.0), (3928, 0.04401177736738954), (3929, 0.03717103957263386), (3930, 0.009005140542066496), (3931, 0.014369403120345558), (3932, 0.01150135718458611), (3933, 0.0), (3934, 0.018324124845013195), (3935, 0.0), (3936, 0.022155685047780038), (3937, 0.016431041269472306), (3938, 0.0), (3939, 0.010554366186588802), (3940, 0.004229693503887445), (3941, 0.006061666936872003), (3942, 0.005558455806884321), (3943, 0.006843774038784397), (3944, 0.0), (3945, 0.006677826335791272), (3946, 0.010283013540546357), (3947, 0.017882952975819145), (3948, 0.029286855882009494), (3949, 0.0), (3950, 0.0), (3951, 0.0), (3952, 0.0), (3953, 0.0), (3954, 0.021217685254484232), (3955, 0.016469188697453712), (3956, 0.025657464519298866), (3957, 0.0), (3958, 0.0), (3959, 0.010122646882962523), (3960, 0.0), (3961, 0.0), (3962, 0.005815248939439414), (3963, 0.0), (3964, 0.0), (3965, 0.0057360622235076465), (3966, 0.0518129075067009), (3967, 0.0), (3968, 0.0), (3969, 0.0), (3970, 0.004200328306127831), (3971, 0.0), (3972, 0.021268881373436372), (3973, 0.009933031430873119), (3974, 0.003266146878076618), (3975, 0.04325285644838213), (3976, 0.014791329343824586), (3977, 0.0), (3978, 0.03917604695771838), (3979, 0.017971834566258595), (3980, 0.0), (3981, 0.02084061161820894), (3982, 0.0055944747970176545), (3983, 0.007838952390667779), (3984, 0.004694547331453594), (3985, 0.0), (3986, 0.024494873652704495), (3987, 0.0592859612466767), (3988, 0.045908144821351575), (3989, 0.0), (3990, 0.0), (3991, 0.012511041518394455), (3992, 0.0), (3993, 0.036471114858621104), (3994, 0.014907131769371942), (3995, 0.0), (3996, 0.0), (3997, 0.03131078529101785), (3998, 0.013901215853806936), (3999, 0.0), (4000, 0.0), (4001, 0.0), (4002, 0.0), (4003, 0.018996535468975714), (4004, 0.014479661190878068), (4005, 0.0), (4006, 0.03366055684263935), (4007, 0.01164497857255367), (4008, 0.051865136232105674), (4009, 0.015168662218824248), (4010, 0.017256325818179614), (4011, 0.02281776231658094), (4012, 0.024480552490182307), (4013, 0.02986000059587533), (4014, 0.004438103488086276), (4015, 0.020970309870496622), (4016, 0.0), (4017, 0.03566699119074567), (4018, 0.0), (4019, 0.0), (4020, 0.0), (4021, 0.01716892625699751), (4022, 0.027364967880319696), (4023, 0.0), (4024, 0.004025891535689778), (4025, 0.0), (4026, 0.013910193959497878), (4027, 0.016089404296163706), (4028, 0.00448328828872116), (4029, 0.0), (4030, 0.0), (4031, 0.0), (4032, 0.025582381287353552), (4033, 0.015428744882727078), (4034, 0.0), (4035, 0.0), (4036, 0.0), (4037, 0.03890854198697791), (4038, 0.0), (4039, 0.03152587623660589), (4040, 0.009026242077725552), (4041, 0.022442164606526684), (4042, 0.03254509242396609), (4043, 0.0), (4044, 0.0), (4045, 0.005163647633134504), (4046, 0.0), (4047, 0.0), (4048, 0.0054812915920140004), (4049, 0.01603631053311584), (4050, 0.03942107198247239), (4051, 0.0), (4052, 0.009792094316063598), (4053, 0.0205392607913773), (4054, 0.0), (4055, 0.0150133027565663), (4056, 0.0), (4057, 0.0), (4058, 0.0), (4059, 0.0), (4060, 0.0), (4061, 0.017035891923353287), (4062, 0.020503166380337237), (4063, 0.01955817354114208), (4064, 0.0), (4065, 0.017471110877013963), (4066, 0.0), (4067, 0.0), (4068, 0.0), (4069, 0.01821759789733707), (4070, 0.007637705898627035), (4071, 0.03162719652988484), (4072, 0.006123043807921213), (4073, 0.02223746542356809), (4074, 0.0), (4075, 0.0), (4076, 0.00888070242975479), (4077, 0.02945551559784501), (4078, 0.004413000916899867), (4079, 0.012558808130287848), (4080, 0.0), (4081, 0.0064684224560901775), (4082, 0.0), (4083, 0.0), (4084, 0.008967180831726047), (4085, 0.006420405601566633), (4086, 0.0), (4087, 0.0), (4088, 0.054419275471719306), (4089, 0.0), (4090, 0.007695222499522085), (4091, 0.0), (4092, 0.0), (4093, 0.03092256713820263), (4094, 0.0), (4095, 0.0), (4096, 0.003464251266386455), (4097, 0.023072868159500236), (4098, 0.014882275219150854), (4099, 0.01776392116676266), (4100, 0.008777729855623058), (4101, 0.0), (4102, 0.0), (4103, 0.0), (4104, 0.0), (4105, 0.004999463788621568), (4106, 0.012726606651951947), (4107, 0.030718710085103792), (4108, 0.0), (4109, 0.004610692032307879), (4110, 0.04013477261847952), (4111, 0.006815278916233588), (4112, 0.0), (4113, 0.0), (4114, 0.037237598006660044), (4115, 0.0), (4116, 0.0), (4117, 0.03545805730308001), (4118, 0.0), (4119, 0.0), (4120, 0.0), (4121, 0.0), (4122, 0.0), (4123, 0.0), (4124, 0.006374733209179929), (4125, 0.014721249591442678), (4126, 0.01598262579278529), (4127, 0.004123591934956777), (4128, 0.022302421988757617), (4129, 0.02569440574221309), (4130, 0.0), (4131, 0.030039561428429055), (4132, 0.004439670950968818), (4133, 0.0), (4134, 0.004022403220081301), (4135, 0.02437806508503222), (4136, 0.010320548879839067), (4137, 0.0), (4138, 0.03729406165716138), (4139, 0.008706135307715869), (4140, 0.0), (4141, 0.0), (4142, 0.019559916890798383), (4143, 0.01532858309330518), (4144, 0.023417082098581236), (4145, 0.0), (4146, 0.018469053373485193), (4147, 0.011074687467808304), (4148, 0.0), (4149, 0.010023969940773746), (4150, 0.0), (4151, 0.024601882623275534), (4152, 0.0), (4153, 0.015670834871638315), (4154, 0.0), (4155, 0.01752661996243361), (4156, 0.020810839434224064), (4157, 0.016609999096469527), (4158, 0.00984757491293273), (4159, 0.02525530058777713), (4160, 0.04402497529739151), (4161, 0.007632035211222915), (4162, 0.0), (4163, 0.019602157165866343), (4164, 0.0032472128654590354), (4165, 0.0), (4166, 0.0), (4167, 0.020895784106089957), (4168, 0.0), (4169, 0.0), (4170, 0.031455723367653496), (4171, 0.0), (4172, 0.08120958374171529), (4173, 0.08508210139687009), (4174, 0.006165922368372799), (4175, 0.019643457709395837), (4176, 0.035553373746979595), (4177, 0.0), (4178, 0.0), (4179, 0.0), (4180, 0.0), (4181, 0.09653247162571499), (4182, 0.012964059873710595), (4183, 0.02808392747196794), (4184, 0.03224578681137066), (4185, 0.0), (4186, 0.0), (4187, 0.029239688360337888), (4188, 0.0), (4189, 0.02777228612370496), (4190, 0.0), (4191, 0.020805521328443433), (4192, 0.0043086924014684455), (4193, 0.05199755903541998), (4194, 0.014881664572551254), (4195, 0.008479721660090393), (4196, 0.022529292226346496), (4197, 0.004427760759518228), (4198, 0.0), (4199, 0.0), (4200, 0.0588428548492307), (4201, 0.003763961859233568), (4202, 0.003938952998552488), (4203, 0.03278446396763775), (4204, 0.004197085816816562), (4205, 0.009605475227499952), (4206, 0.0), (4207, 0.0), (4208, 0.0), (4209, 0.07666432735572005), (4210, 0.0), (4211, 0.010666284771110472), (4212, 0.0), (4213, 0.02801255346735677), (4214, 0.0), (4215, 0.008733154492737705), (4216, 0.004216983836245208), (4217, 0.009706810869420532), (4218, 0.0), (4219, 0.015158167922819224), (4220, 0.005005343346614469), (4221, 0.004671442303476371), (4222, 0.019101141114632965), (4223, 0.006534962567952228), (4224, 0.0047298074041764015), (4225, 0.03764166218241098), (4226, 0.020976354753108637), (4227, 0.0), (4228, 0.004307477378628882), (4229, 0.0), (4230, 0.014762634464395933), (4231, 0.017289007559743715), (4232, 0.06188468082332151), (4233, 0.013046447917361781), (4234, 0.0), (4235, 0.0), (4236, 0.0), (4237, 0.004426610605207855), (4238, 0.031753980991230155), (4239, 0.021356687930943336), (4240, 0.015157707509175387), (4241, 0.011137531911939653), (4242, 0.0), (4243, 0.0), (4244, 0.0), (4245, 0.018944267089656283), (4246, 0.02839326105930457), (4247, 0.0), (4248, 0.0), (4249, 0.0), (4250, 0.0), (4251, 0.047627711493217484), (4252, 0.0), (4253, 0.0), (4254, 0.022648301053506414), (4255, 0.0), (4256, 0.01861764231028583), (4257, 0.0), (4258, 0.006799737726902663), (4259, 0.017431630445915582), (4260, 0.0), (4261, 0.008560705770032484), (4262, 0.009630764561469888), (4263, 0.003982244328228392), (4264, 0.0048000004877576646), (4265, 0.007256058077066508), (4266, 0.0), (4267, 0.14520436352015406), (4268, 0.008241814686194318), (4269, 0.0), (4270, 0.0), (4271, 0.0), (4272, 0.004578917011636752), (4273, 0.0), (4274, 0.0), (4275, 0.005464563992280719), (4276, 0.05312983534275569), (4277, 0.00811676244822756), (4278, 0.0), (4279, 0.0), (4280, 0.0), (4281, 0.004630997567882044), (4282, 0.004865770884841673), (4283, 0.007679642455498439), (4284, 0.0372194576603042), (4285, 0.0), (4286, 0.02837426389586976), (4287, 0.022101153701349022), (4288, 0.0), (4289, 0.0), (4290, 0.0), (4291, 0.007993602828139927), (4292, 0.008141699910781744), (4293, 0.0), (4294, 0.0), (4295, 0.01586866258770681), (4296, 0.0), (4297, 0.0), (4298, 0.0), (4299, 0.0), (4300, 0.009106484747677097), (4301, 0.013883744582543121), (4302, 0.003841546654713669), (4303, 0.0), (4304, 0.0), (4305, 0.0), (4306, 0.0), (4307, 0.0), (4308, 0.0), (4309, 0.0), (4310, 0.015369673073961787), (4311, 0.0), (4312, 0.028221237539208154), (4313, 0.0), (4314, 0.0), (4315, 0.011730488240661089), (4316, 0.011776662353732065), (4317, 0.004510908895430937), (4318, 0.0), (4319, 0.008692802634657692), (4320, 0.007988701382899867), (4321, 0.0), (4322, 0.0), (4323, 0.0), (4324, 0.0), (4325, 0.03333354077981599), (4326, 0.023118981123331883), (4327, 0.03276863427278123), (4328, 0.005685977134201797), (4329, 0.0), (4330, 0.011046658764166654), (4331, 0.01663687251897518), (4332, 0.023272241329806452), (4333, 0.0), (4334, 0.020706416006590088), (4335, 0.005790646127246967), (4336, 0.0), (4337, 0.007398520046238284), (4338, 0.019599109951543396), (4339, 0.026176912453073103), (4340, 0.07343598523329355), (4341, 0.029129454667427956), (4342, 0.0), (4343, 0.00419206377738069), (4344, 0.027954054292717082), (4345, 0.010906231781207174), (4346, 0.0), (4347, 0.0), (4348, 0.0), (4349, 0.022073349468943165), (4350, 0.012521775697686763), (4351, 0.0052675839279006055), (4352, 0.008358115275486458), (4353, 0.021280899614759683), (4354, 0.0), (4355, 0.009531701370445018), (4356, 0.04889346940813446), (4357, 0.0), (4358, 0.0), (4359, 0.0), (4360, 0.05300378435586596), (4361, 0.0), (4362, 0.0), (4363, 0.0), (4364, 0.0), (4365, 0.004554174545705077), (4366, 0.0), (4367, 0.0), (4368, 0.02494994920140639), (4369, 0.016691419849666884), (4370, 0.05155492134093518), (4371, 0.0), (4372, 0.007742779490734898), (4373, 0.004580835086543564), (4374, 0.0), (4375, 0.0102842197892706), (4376, 0.018530240307677637), (4377, 0.008519443057909339), (4378, 0.013280582516306257), (4379, 0.01980782296098796), (4380, 0.021949428148526268), (4381, 0.004087676118911712), (4382, 0.013349617262711866), (4383, 0.007659825634993918), (4384, 0.0), (4385, 0.0), (4386, 0.012892181904676734), (4387, 0.0), (4388, 0.015665894311675813), (4389, 0.0), (4390, 0.004044420580886771), (4391, 0.01070602885761302), (4392, 0.04435518193269303), (4393, 0.011882547216869821), (4394, 0.0036632869909487427), (4395, 0.007591158214876648), (4396, 0.0), (4397, 0.007230257494736897), (4398, 0.017881072300810992), (4399, 0.039429823767527176), (4400, 0.0), (4401, 0.14678890114385917), (4402, 0.051543413866800336), (4403, 0.0), (4404, 0.0070066097738359446), (4405, 0.0), (4406, 0.0), (4407, 0.0), (4408, 0.023530186868199587), (4409, 0.0), (4410, 0.0), (4411, 0.0), (4412, 0.0), (4413, 0.0), (4414, 0.011161713307018426), (4415, 0.0), (4416, 0.0), (4417, 0.0), (4418, 0.0), (4419, 0.0), (4420, 0.0), (4421, 0.0), (4422, 0.0), (4423, 0.019307418002462003), (4424, 0.0), (4425, 0.029628146278678387), (4426, 0.0), (4427, 0.01857563010048825), (4428, 0.008291411496906527), (4429, 0.0), (4430, 0.0216665415072715), (4431, 0.0), (4432, 0.12366856042396873), (4433, 0.0), (4434, 0.0), (4435, 0.0), (4436, 0.0), (4437, 0.0), (4438, 0.0), (4439, 0.014261506818446242), (4440, 0.021302822757647877), (4441, 0.0), (4442, 0.021814047519235196), (4443, 0.0), (4444, 0.0), (4445, 0.0), (4446, 0.0), (4447, 0.0), (4448, 0.047591851576186395), (4449, 0.009470121271597286), (4450, 0.030823121009798934), (4451, 0.0), (4452, 0.0), (4453, 0.0), (4454, 0.0), (4455, 0.0), (4456, 0.0), (4457, 0.0), (4458, 0.0), (4459, 0.0), (4460, 0.0063869323616972265), (4461, 0.017505938711950695), (4462, 0.0), (4463, 0.0), (4464, 0.0), (4465, 0.02959040927803333), (4466, 0.02463877280882624), (4467, 0.02660828815655126), (4468, 0.0), (4469, 0.0), (4470, 0.03259924809669737), (4471, 0.0), (4472, 0.008665260268548955), (4473, 0.0), (4474, 0.0), (4475, 0.004617772056088663), (4476, 0.008811866159090107), (4477, 0.0), (4478, 0.018566987552827704), (4479, 0.022097497238922285), (4480, 0.0), (4481, 0.02507529323188789), (4482, 0.0034487919769731466), (4483, 0.004507168344123263), (4484, 0.00811590440525687), (4485, 0.0), (4486, 0.016210962970435394), (4487, 0.06541923155708362), (4488, 0.00953547897638092), (4489, 0.012076003965423325), (4490, 0.01969911588894904), (4491, 0.0), (4492, 0.0), (4493, 0.0), (4494, 0.0), (4495, 0.0), (4496, 0.00487517302732177), (4497, 0.0), (4498, 0.0040872807067823804), (4499, 0.018753030695184518), (4500, 0.04296666114892735), (4501, 0.005563485740430511), (4502, 0.029391089487950155), (4503, 0.0), (4504, 0.0), (4505, 0.0), (4506, 0.005110848568495575), (4507, 0.02482137928835461), (4508, 0.0), (4509, 0.004904136593328592), (4510, 0.0), (4511, 0.0), (4512, 0.0), (4513, 0.008221753772955788), (4514, 0.010772516403341271), (4515, 0.00475505017646684), (4516, 0.018502316994080864), (4517, 0.0), (4518, 0.009626479720251256), (4519, 0.0), (4520, 0.0), (4521, 0.0), (4522, 0.00478762798805686), (4523, 0.0), (4524, 0.020657219263652486), (4525, 0.010972475187645183), (4526, 0.05274138796383977), (4527, 0.0), (4528, 0.01306058886267392), (4529, 0.008012251467744856), (4530, 0.0), (4531, 0.009380239722377443), (4532, 0.0), (4533, 0.0), (4534, 0.0), (4535, 0.011601274839819986), (4536, 0.0), (4537, 0.016866733467982706), (4538, 0.0), (4539, 0.02653175326724847), (4540, 0.0), (4541, 0.0), (4542, 0.016339518175336774), (4543, 0.0), (4544, 0.0), (4545, 0.004157231649950348), (4546, 0.00638152958289423), (4547, 0.0), (4548, 0.0), (4549, 0.005899986751028804), (4550, 0.0), (4551, 0.0), (4552, 0.0), (4553, 0.0), (4554, 0.006654818280641335), (4555, 0.03991610201721283), (4556, 0.008821273622632315), (4557, 0.0064219440333824545), (4558, 0.0), (4559, 0.012862292406125317), (4560, 0.0), (4561, 0.0), (4562, 0.0), (4563, 0.020720804577492043), (4564, 0.0), (4565, 0.013931494457893035), (4566, 0.0), (4567, 0.0), (4568, 0.0), (4569, 0.0), (4570, 0.0), (4571, 0.0), (4572, 0.004266205547872786), (4573, 0.0), (4574, 0.0), (4575, 0.0), (4576, 0.007383443856246014), (4577, 0.009610671539062804), (4578, 0.0), (4579, 0.019985440221792508), (4580, 0.022953077939263777), (4581, 0.0), (4582, 0.0), (4583, 0.012759470518449884), (4584, 0.0), (4585, 0.015015329199994302), (4586, 0.0), (4587, 0.021180644746986978), (4588, 0.0), (4589, 0.0), (4590, 0.0), (4591, 0.0), (4592, 0.004407805220254832), (4593, 0.01939466588088402), (4594, 0.0035126534682051232), (4595, 0.018206660722008335), (4596, 0.00990753159967373), (4597, 0.006535131420812561), (4598, 0.020554539219266546), (4599, 0.015637326647739085), (4600, 0.009100663916411948), (4601, 0.023349208958706364), (4602, 0.0), (4603, 0.019258032118354133), (4604, 0.00919377263954309), (4605, 0.007956257806455985), (4606, 0.0), (4607, 0.0), (4608, 0.04771963764224754), (4609, 0.015609186417306967), (4610, 0.0052851693571894145), (4611, 0.0), (4612, 0.0), (4613, 0.0055160208474780365), (4614, 0.0), (4615, 0.0), (4616, 0.0), (4617, 0.0), (4618, 0.0), (4619, 0.0), (4620, 0.015080723890949986), (4621, 0.006139452033892288), (4622, 0.0), (4623, 0.026430815818229262), (4624, 0.0), (4625, 0.004623062752762156), (4626, 0.007021658849437304), (4627, 0.0), (4628, 0.021280768266623815), (4629, 0.0), (4630, 0.009184381153603935), (4631, 0.010374593293475972), (4632, 0.0), (4633, 0.0), (4634, 0.009161112652143796), (4635, 0.0), (4636, 0.016673993696431515), (4637, 0.0), (4638, 0.027923506607978932), (4639, 0.017192488406767927), (4640, 0.0), (4641, 0.023717530527987737), (4642, 0.0), (4643, 0.037408509943711164), (4644, 0.0), (4645, 0.0), (4646, 0.004907484565054344), (4647, 0.005002229031872623), (4648, 0.0038536612019895856), (4649, 0.0), (4650, 0.014418770007185153), (4651, 0.021433045027424606), (4652, 0.0), (4653, 0.0), (4654, 0.019205565409116027), (4655, 0.0), (4656, 0.008649961625431716), (4657, 0.0), (4658, 0.0), (4659, 0.032476541632047454), (4660, 0.0), (4661, 0.015819850990617695), (4662, 0.02139244278821452), (4663, 0.0), (4664, 0.05134511104187996), (4665, 0.0), (4666, 0.008154386219691525), (4667, 0.0), (4668, 0.0043514494104603), (4669, 0.025804292477862395), (4670, 0.043775451182795716), (4671, 0.0), (4672, 0.01714032251767222), (4673, 0.004254702629148293), (4674, 0.0), (4675, 0.004766624488138209), (4676, 0.0), (4677, 0.014730793191644307), (4678, 0.040163434677007996), (4679, 0.031990956795068956), (4680, 0.02786151045341692), (4681, 0.0), (4682, 0.0), (4683, 0.0), (4684, 0.0), (4685, 0.0), (4686, 0.0), (4687, 0.015598547709380234), (4688, 0.03679943958598742), (4689, 0.0), (4690, 0.0), (4691, 0.023915878535233054), (4692, 0.01826963673197473), (4693, 0.02533277253098452), (4694, 0.0), (4695, 0.006685493615636686), (4696, 0.0), (4697, 0.0), (4698, 0.0), (4699, 0.0), (4700, 0.020054676388218253), (4701, 0.030561531558049006), (4702, 0.0), (4703, 0.0), (4704, 0.013003835079510213), (4705, 0.0), (4706, 0.01621338806842518), (4707, 0.0), (4708, 0.008058794906723716), (4709, 0.0), (4710, 0.0), (4711, 0.0), (4712, 0.0), (4713, 0.0), (4714, 0.03646946017211245), (4715, 0.06672841653809827), (4716, 0.0), (4717, 0.008888697030669877), (4718, 0.03837088408075945), (4719, 0.0), (4720, 0.004515475947844812), (4721, 0.026299952348523788), (4722, 0.0), (4723, 0.0), (4724, 0.03321285250793332), (4725, 0.0), (4726, 0.007968100633328212), (4727, 0.008660326202486999), (4728, 0.0445205946813943), (4729, 0.0), (4730, 0.014669558525489412), (4731, 0.0), (4732, 0.018583854502279815), (4733, 0.012118139741475575), (4734, 0.02996100467252425), (4735, 0.025472074814328914), (4736, 0.0), (4737, 0.0), (4738, 0.0), (4739, 0.0), (4740, 0.053964881327687786), (4741, 0.02243638823853662), (4742, 0.0034347598038847816), (4743, 0.0), (4744, 0.004470071712427787), (4745, 0.017423810764149512), (4746, 0.0), (4747, 0.0), (4748, 0.0), (4749, 0.016039460304515078), (4750, 0.0), (4751, 0.0), (4752, 0.007151127250239133), (4753, 0.015855651490892613), (4754, 0.0), (4755, 0.0), (4756, 0.012504192241129601), (4757, 0.016467555708040035), (4758, 0.01966636207518846), (4759, 0.0331958981114716), (4760, 0.011003616898568318), (4761, 0.0), (4762, 0.0), (4763, 0.005095654896256648), (4764, 0.02985867059226824), (4765, 0.0), (4766, 0.015535947382795852), (4767, 0.004305533846291757), (4768, 0.0), (4769, 0.008412656779162942), (4770, 0.0), (4771, 0.0), (4772, 0.04140229148775521), (4773, 0.021321809598784488), (4774, 0.013718667496686442), (4775, 0.0), (4776, 0.0), (4777, 0.0), (4778, 0.01381183262883839), (4779, 0.04453057070967692), (4780, 0.009932892629034998), (4781, 0.0), (4782, 0.0056171257524054805), (4783, 0.0), (4784, 0.0), (4785, 0.0), (4786, 0.0), (4787, 0.043899734904188074), (4788, 0.007565476396552224), (4789, 0.01936314820388913), (4790, 0.0), (4791, 0.011752945370962223), (4792, 0.007478666653394276), (4793, 0.0), (4794, 0.0), (4795, 0.013958008074391926), (4796, 0.01636075122264358), (4797, 0.0), (4798, 0.010213628006580697), (4799, 0.003983843867657685), (4800, 0.0), (4801, 0.0), (4802, 0.0)]\n"
     ]
    }
   ],
   "source": [
    "#displaying the cosine similarity score of the close_matched movie with other movies\n",
    "similarity_score = list(enumerate(similarity[index_of_the_movie]))\n",
    "print(similarity_score)\n"
   ]
  },
  {
   "cell_type": "code",
   "execution_count": 18,
   "id": "0bb07495",
   "metadata": {},
   "outputs": [],
   "source": [
    "#we sort the coine similarity  in decreasing order\n",
    "sorted_similar_movies = sorted(similarity_score, key = lambda x:x[1], reverse = True) \n",
    "\n"
   ]
  },
  {
   "cell_type": "code",
   "execution_count": 19,
   "id": "f9a46ac1",
   "metadata": {},
   "outputs": [
    {
     "name": "stdout",
     "output_type": "stream",
     "text": [
      "1 ) Superman\n",
      "2 ) Superman II\n",
      "3 ) Superman IV: The Quest for Peace\n",
      "4 ) Man of Steel\n",
      "5 ) Superman III\n",
      "6 ) Crimson Tide\n",
      "7 ) Superman Returns\n",
      "8 ) Batman Returns\n",
      "9 ) Suicide Squad\n",
      "10 ) The Killer Inside Me\n"
     ]
    }
   ],
   "source": [
    "#we display the top 10 similar movie to selected movie(any number of movies can be displayed)\n",
    "i=1\n",
    "for movie in sorted_similar_movies:\n",
    "  index = movie[0]\n",
    "  title_from_index = data[data.index==index]['title'].values[0]\n",
    "  if (i<11):\n",
    "    print(i, ')',title_from_index)\n",
    "    i+=1\n"
   ]
  }
 ],
 "metadata": {
  "kernelspec": {
   "display_name": "Python 3 (ipykernel)",
   "language": "python",
   "name": "python3"
  },
  "language_info": {
   "codemirror_mode": {
    "name": "ipython",
    "version": 3
   },
   "file_extension": ".py",
   "mimetype": "text/x-python",
   "name": "python",
   "nbconvert_exporter": "python",
   "pygments_lexer": "ipython3",
   "version": "3.9.17"
  }
 },
 "nbformat": 4,
 "nbformat_minor": 5
}
